{
 "cells": [
  {
   "cell_type": "markdown",
   "metadata": {},
   "source": [
    "# 데이터 전처리"
   ]
  },
  {
   "cell_type": "markdown",
   "metadata": {},
   "source": [
    "## Contents "
   ]
  },
  {
   "cell_type": "markdown",
   "metadata": {},
   "source": [
    "- 1. 짧은 글 제거 (30자 이하 글 제거)\n",
    "- 2. 데이터 수집시 카테고리 잘 못 분류한 데이터 정리 "
   ]
  },
  {
   "cell_type": "code",
   "execution_count": 1,
   "metadata": {},
   "outputs": [
    {
     "name": "stderr",
     "output_type": "stream",
     "text": [
      "\n",
      "Bad key \"text.kerning_factor\" on line 4 in\n",
      "/Users/jin/opt/anaconda3/envs/NLP/lib/python3.7/site-packages/matplotlib/mpl-data/stylelib/_classic_test_patch.mplstyle.\n",
      "You probably need to get an updated matplotlibrc file from\n",
      "http://github.com/matplotlib/matplotlib/blob/master/matplotlibrc.template\n",
      "or from the matplotlib source distribution\n"
     ]
    }
   ],
   "source": [
    "import pandas as pd\n",
    "import matplotlib.pyplot as plt\n",
    "import seaborn as sns\n",
    "%matplotlib inline\n",
    "import numpy as np"
   ]
  },
  {
   "cell_type": "markdown",
   "metadata": {},
   "source": [
    "## 1. 짧은 글 제거\n",
    "- 30자 이하 글 제거 "
   ]
  },
  {
   "cell_type": "code",
   "execution_count": 286,
   "metadata": {},
   "outputs": [],
   "source": [
    "# 데이터 부르기\n",
    "data = pd.read_csv('/Users/jin/Documents/pythonstudy/NLP/frip_data/frip_data_translate_part11_full.csv', index_col=0)"
   ]
  },
  {
   "cell_type": "code",
   "execution_count": 287,
   "metadata": {},
   "outputs": [
    {
     "data": {
      "text/plain": [
       "13097"
      ]
     },
     "execution_count": 287,
     "metadata": {},
     "output_type": "execute_result"
    }
   ],
   "source": [
    "len(data)"
   ]
  },
  {
   "cell_type": "code",
   "execution_count": 288,
   "metadata": {},
   "outputs": [
    {
     "name": "stdout",
     "output_type": "stream",
     "text": [
      "12584\n"
     ]
    }
   ],
   "source": [
    "data = data.drop_duplicates(['날짜'])\n",
    "print(len(data))"
   ]
  },
  {
   "cell_type": "code",
   "execution_count": 289,
   "metadata": {},
   "outputs": [
    {
     "data": {
      "text/html": [
       "<div>\n",
       "<style scoped>\n",
       "    .dataframe tbody tr th:only-of-type {\n",
       "        vertical-align: middle;\n",
       "    }\n",
       "\n",
       "    .dataframe tbody tr th {\n",
       "        vertical-align: top;\n",
       "    }\n",
       "\n",
       "    .dataframe thead th {\n",
       "        text-align: right;\n",
       "    }\n",
       "</style>\n",
       "<table border=\"1\" class=\"dataframe\">\n",
       "  <thead>\n",
       "    <tr style=\"text-align: right;\">\n",
       "      <th></th>\n",
       "      <th>날짜</th>\n",
       "      <th>내용</th>\n",
       "      <th>별점</th>\n",
       "      <th>제목</th>\n",
       "      <th>카테고리</th>\n",
       "      <th>지역</th>\n",
       "      <th>가격</th>\n",
       "      <th>review</th>\n",
       "      <th>s_review</th>\n",
       "      <th>번역</th>\n",
       "      <th>t_preprocess</th>\n",
       "    </tr>\n",
       "  </thead>\n",
       "  <tbody>\n",
       "    <tr>\n",
       "      <th>0</th>\n",
       "      <td>bella2022년 3월 9일 17:10 작성</td>\n",
       "      <td>2시간동안 알차게 수업 잘 들었어요! \\n결과물도 너무 만족스러워요~ ㅎㅎㅎ \\n포...</td>\n",
       "      <td>5.0</td>\n",
       "      <td>[반포] 휘낭시에 3종 만들기 #18개완성</td>\n",
       "      <td>베이킹</td>\n",
       "      <td>강남/서초</td>\n",
       "      <td>50000</td>\n",
       "      <td>2시간동안 알차게 수업 잘 들었어요   결과물도 너무 만족스러워요     포장지도 ...</td>\n",
       "      <td>2시간 동안 알차게 수업 잘 들었어요 결과물도 너무 만족스러워요 포장지도 예쁜 걸루...</td>\n",
       "      <td>I've been in class for two hours. I'm so happy...</td>\n",
       "      <td>class hours happy results happy pretty wrappin...</td>\n",
       "    </tr>\n",
       "    <tr>\n",
       "      <th>1</th>\n",
       "      <td>HS2022년 3월 2일 9:51 작성</td>\n",
       "      <td>처음 만들어봤는데 옆에서 적당히 도와주시고 재밌었습니다. 그리고 재밋게 만들고 맛있...</td>\n",
       "      <td>5.0</td>\n",
       "      <td>[반포] 휘낭시에 3종 만들기 #18개완성</td>\n",
       "      <td>베이킹</td>\n",
       "      <td>강남/서초</td>\n",
       "      <td>50000</td>\n",
       "      <td>처음 만들어봤는데 옆에서 적당히 도와주시고 재밌었습니다  그리고 재밋게 만들고 맛있...</td>\n",
       "      <td>처음 만들어 봤는데 옆에서 적당히 도와 주시고 재밌었습니다 그리고 재밋게 만들고 맛...</td>\n",
       "      <td>I made it for the first time, but it was nice ...</td>\n",
       "      <td>made first time nice helpful delicious delicious</td>\n",
       "    </tr>\n",
       "  </tbody>\n",
       "</table>\n",
       "</div>"
      ],
      "text/plain": [
       "                          날짜  \\\n",
       "0  bella2022년 3월 9일 17:10 작성   \n",
       "1      HS2022년 3월 2일 9:51 작성   \n",
       "\n",
       "                                                  내용   별점  \\\n",
       "0  2시간동안 알차게 수업 잘 들었어요! \\n결과물도 너무 만족스러워요~ ㅎㅎㅎ \\n포...  5.0   \n",
       "1  처음 만들어봤는데 옆에서 적당히 도와주시고 재밌었습니다. 그리고 재밋게 만들고 맛있...  5.0   \n",
       "\n",
       "                        제목 카테고리     지역     가격  \\\n",
       "0  [반포] 휘낭시에 3종 만들기 #18개완성  베이킹  강남/서초  50000   \n",
       "1  [반포] 휘낭시에 3종 만들기 #18개완성  베이킹  강남/서초  50000   \n",
       "\n",
       "                                              review  \\\n",
       "0  2시간동안 알차게 수업 잘 들었어요   결과물도 너무 만족스러워요     포장지도 ...   \n",
       "1  처음 만들어봤는데 옆에서 적당히 도와주시고 재밌었습니다  그리고 재밋게 만들고 맛있...   \n",
       "\n",
       "                                            s_review  \\\n",
       "0  2시간 동안 알차게 수업 잘 들었어요 결과물도 너무 만족스러워요 포장지도 예쁜 걸루...   \n",
       "1  처음 만들어 봤는데 옆에서 적당히 도와 주시고 재밌었습니다 그리고 재밋게 만들고 맛...   \n",
       "\n",
       "                                                  번역  \\\n",
       "0  I've been in class for two hours. I'm so happy...   \n",
       "1  I made it for the first time, but it was nice ...   \n",
       "\n",
       "                                        t_preprocess  \n",
       "0  class hours happy results happy pretty wrappin...  \n",
       "1   made first time nice helpful delicious delicious  "
      ]
     },
     "execution_count": 289,
     "metadata": {},
     "output_type": "execute_result"
    }
   ],
   "source": [
    "data.head(2)"
   ]
  },
  {
   "cell_type": "code",
   "execution_count": 290,
   "metadata": {},
   "outputs": [
    {
     "name": "stdout",
     "output_type": "stream",
     "text": [
      "1. Raw: 유익한 시간이었습니다\n",
      "추천할 만한 프립입니다\n",
      "2. Preprocess: 유익한 시간이었습니다 추천할 만한 프립입니다\n",
      "3. Translate: It was a useful time It's a frip\n",
      "4. After clean and stopword: useful time frip\n"
     ]
    }
   ],
   "source": [
    "# 데이터 체크\n",
    "print('1. Raw:',data['내용'][9010])\n",
    "print('2. Preprocess:',data['s_review'][9010])\n",
    "print('3. Translate:',data['번역'][9010])\n",
    "print('4. After clean and stopword:',data['t_preprocess'][9010])"
   ]
  },
  {
   "cell_type": "code",
   "execution_count": 291,
   "metadata": {},
   "outputs": [],
   "source": [
    "# 짧은 글 제거\n",
    "data = data[data['s_review'].apply(lambda x: len(x) > 30)]\n",
    "data.reset_index(drop=True, inplace=True)"
   ]
  },
  {
   "cell_type": "code",
   "execution_count": 292,
   "metadata": {},
   "outputs": [
    {
     "data": {
      "text/plain": [
       "11489"
      ]
     },
     "execution_count": 292,
     "metadata": {},
     "output_type": "execute_result"
    }
   ],
   "source": [
    "len(data)"
   ]
  },
  {
   "cell_type": "code",
   "execution_count": 293,
   "metadata": {},
   "outputs": [
    {
     "name": "stdout",
     "output_type": "stream",
     "text": [
      "1. Raw : 레시피가 간단해보여서 빨리 끝날줄 알았는데 생각보다 꼼꼼해야해서 오래걸렸어요! 넘 재밌는 시간이었습니당◡̈\n",
      "선생님이 고상하신데 쿨하십니당ㅋㅋㅋ 자세하게 가르쳐주셔서 다른 클래스도 참여해보고 싶어졌어요!\n",
      "더치베이비도 맛있게 구워주시고, 과일도 직접 깎아서 올려주시니 더 맛있었습니다!  ˃̵͈̑ᴗ˂̵͈̑\n",
      "끝나고 약속 가서 남편보고 조심히 들으라고 했는데 결국 다 깨부셔버렸네요ㅠ_ ㅠ ^^^ 그래도 맛은 정말 맛있고, 집에서도 시도해볼 수 있을 것 같은 디저트에요!!!! 초콜릿에 바닐라빈까지 넣어주셔서 그런지 향도 좋아요❤︎\n",
      "정말 즐거운 시간이었습니다𖤐\n",
      "2. Korean Preprocess : 레시피가 간단해 보여서 빨리 끝날 줄 알았는데 생각보다 꼼꼼해야 해서 오래 걸렸어요 넘 재밌는 시간이었습니 당 선생님이 고상하신데 쿨하십니 당 자세하게 가르쳐 주셔서 다른 클래스도 참여해보고 싶어졌어요 더치베이비도 맛있게 구워주시고 과일도 직접 깎아서 올려주시니 더 맛있었습니다 ᴗ 끝나고 약속 가서 남편 보고 조심히 들으라고 했는데 결국  다 깨부셔버렸네요 _ 그래도 맛은 정말 맛있고 집에서도 시도 해볼 수 있을 것 같은 디저트에 요 초콜릿에 바닐라빈까지 넣어주셔서 그런지 향도 좋아요 정말 즐거운 시간이었습니다𖤐\n",
      "3. Translate : I thought it would be quick because the recipe seemed simple. It took a long time to be more careful than I thought. It was a fun time. It was a good time. I wanted to participate in other classes because I was so cool. I really like it because it is delicious and I can try it at home, and I put vanilla bean in chocolate. It was a really fun time\n",
      "4. After clean and stopword : thought would quick recipe seemed simple took long time careful thought time good time wanted participate classes cool really like delicious home vanilla bean chocolate really time\n"
     ]
    }
   ],
   "source": [
    "# 데이터 체크\n",
    "print('1. Raw :',data['내용'][601])\n",
    "print('2. Korean Preprocess :',data['s_review'][601])\n",
    "print('3. Translate :',data['번역'][601])\n",
    "print('4. After clean and stopword :',data['t_preprocess'][601])"
   ]
  },
  {
   "cell_type": "code",
   "execution_count": 294,
   "metadata": {},
   "outputs": [
    {
     "data": {
      "text/plain": [
       "쿠킹       2069\n",
       "공예        955\n",
       "음악        923\n",
       "요가        832\n",
       "DIY       807\n",
       "라켓스포츠     796\n",
       "베이킹       701\n",
       "소셜        533\n",
       "페인팅       467\n",
       "캠핑        458\n",
       "다이빙       453\n",
       "댄스        433\n",
       "클라이밍      337\n",
       "공부        327\n",
       "롱보드       306\n",
       "트래킹       273\n",
       "피트니스      252\n",
       "투어        209\n",
       "재테크       158\n",
       "서핑        120\n",
       "자전거        80\n",
       "Name: 카테고리, dtype: int64"
      ]
     },
     "execution_count": 294,
     "metadata": {},
     "output_type": "execute_result"
    }
   ],
   "source": [
    "data['카테고리'].value_counts()"
   ]
  },
  {
   "cell_type": "markdown",
   "metadata": {},
   "source": [
    "## 2. 데이터 수집시 카테고리 잘 못 분류한 데이터 정리 \n",
    "- 쿠킹카테고리에 있는 다른 데이터 종류들 카테고리 분리하기 \n",
    "- 제목에 맥주, 와인, 베이킹 데이터 띄어내서, 카테고리 변경 후 데이터 다시 붙이기.\n",
    "- 기존에 있던 인덱스를 이용하여 데이터에서 제거한다. "
   ]
  },
  {
   "cell_type": "code",
   "execution_count": 245,
   "metadata": {},
   "outputs": [],
   "source": [
    "# 수제 맥주\n",
    "data = data[data['카테고리'] == '쿠킹']\n",
    "data.reset_index(drop=True, inplace=True)"
   ]
  },
  {
   "cell_type": "code",
   "execution_count": 246,
   "metadata": {
    "scrolled": true
   },
   "outputs": [
    {
     "data": {
      "text/plain": [
       "array(['[프립 MD PICK!] 술술 놀면서 수제 맥주 만들기', '[스페셜] 술술 놀면서 수제 맥주 만들기',\n",
       "       '혼밥요리? 김동금의 비밀요리 (예약 가능)', '[제주한바퀴] 제주로컬푸드 이용한 셀프 베이킹 (예약 가능)',\n",
       "       '알록달록 컬러 파스타 만들기 (예약 가능)', '퇴근하고, 요리하고, 집밥 먹자! (예약 가능)',\n",
       "       '생활소믈리에 기초 와인 강의', '[서초] 단! 2시간으로 끝내는 와인의 세계'], dtype=object)"
      ]
     },
     "execution_count": 246,
     "metadata": {},
     "output_type": "execute_result"
    }
   ],
   "source": [
    "data['제목'].unique()"
   ]
  },
  {
   "cell_type": "code",
   "execution_count": 249,
   "metadata": {},
   "outputs": [],
   "source": [
    "bear = data[(data['제목'] == '[프립 MD PICK!] 술술 놀면서 수제 맥주 만들기')|\n",
    "            (data['제목'] == '[스페셜] 술술 놀면서 수제 맥주 만들기')]"
   ]
  },
  {
   "cell_type": "code",
   "execution_count": 252,
   "metadata": {},
   "outputs": [
    {
     "name": "stderr",
     "output_type": "stream",
     "text": [
      "/Users/jin/opt/anaconda3/envs/NLP/lib/python3.7/site-packages/ipykernel_launcher.py:1: SettingWithCopyWarning: \n",
      "A value is trying to be set on a copy of a slice from a DataFrame.\n",
      "Try using .loc[row_indexer,col_indexer] = value instead\n",
      "\n",
      "See the caveats in the documentation: https://pandas.pydata.org/pandas-docs/stable/user_guide/indexing.html#returning-a-view-versus-a-copy\n",
      "  \"\"\"Entry point for launching an IPython kernel.\n"
     ]
    }
   ],
   "source": [
    "bear['카테고리'] = bear['카테고리'].replace('쿠킹','맥주')"
   ]
  },
  {
   "cell_type": "code",
   "execution_count": 254,
   "metadata": {},
   "outputs": [
    {
     "data": {
      "text/plain": [
       "array(['맥주'], dtype=object)"
      ]
     },
     "execution_count": 254,
     "metadata": {},
     "output_type": "execute_result"
    }
   ],
   "source": [
    "bear.카테고리.unique()"
   ]
  },
  {
   "cell_type": "code",
   "execution_count": 257,
   "metadata": {},
   "outputs": [],
   "source": [
    "# 기존 맥주 데이터 제거 \n",
    "data = data.drop(bear.index)"
   ]
  },
  {
   "cell_type": "code",
   "execution_count": 260,
   "metadata": {},
   "outputs": [],
   "source": [
    "# 바꾼 맥주 데이터 붙이기 \n",
    "data = pd.concat([bear, data])"
   ]
  },
  {
   "cell_type": "code",
   "execution_count": 261,
   "metadata": {},
   "outputs": [
    {
     "data": {
      "text/html": [
       "<div>\n",
       "<style scoped>\n",
       "    .dataframe tbody tr th:only-of-type {\n",
       "        vertical-align: middle;\n",
       "    }\n",
       "\n",
       "    .dataframe tbody tr th {\n",
       "        vertical-align: top;\n",
       "    }\n",
       "\n",
       "    .dataframe thead th {\n",
       "        text-align: right;\n",
       "    }\n",
       "</style>\n",
       "<table border=\"1\" class=\"dataframe\">\n",
       "  <thead>\n",
       "    <tr style=\"text-align: right;\">\n",
       "      <th></th>\n",
       "      <th>날짜</th>\n",
       "      <th>내용</th>\n",
       "      <th>별점</th>\n",
       "      <th>제목</th>\n",
       "      <th>카테고리</th>\n",
       "      <th>지역</th>\n",
       "      <th>가격</th>\n",
       "      <th>review</th>\n",
       "      <th>s_review</th>\n",
       "      <th>번역</th>\n",
       "      <th>t_preprocess</th>\n",
       "    </tr>\n",
       "  </thead>\n",
       "  <tbody>\n",
       "    <tr>\n",
       "      <th>0</th>\n",
       "      <td>김경민2022년 3월 10일 0:26 작성</td>\n",
       "      <td>정말 좋았습니다\\n연인과 함께 체험하기 좋아요!\\n맥주에 대해 알기쉽게 설명도 해주...</td>\n",
       "      <td>5.0</td>\n",
       "      <td>[프립 MD PICK!] 술술 놀면서 수제 맥주 만들기</td>\n",
       "      <td>맥주</td>\n",
       "      <td>송파/강동</td>\n",
       "      <td>50000</td>\n",
       "      <td>정말 좋았습니다 연인과 함께 체험하기 좋아요  맥주에 대해 알기쉽게 설명도 해주시고...</td>\n",
       "      <td>정말 좋았습니다 연인과 함께 체험하기 좋아요 맥주에 대해 알기 쉽게 설명도 해주시고...</td>\n",
       "      <td>It was really good to experience it with my lo...</td>\n",
       "      <td>really good experience lover really good expla...</td>\n",
       "    </tr>\n",
       "    <tr>\n",
       "      <th>1</th>\n",
       "      <td>오상빈2022년 3월 6일 21:33 작성</td>\n",
       "      <td>남친이랑 같이 맥주 만들러 갔어요! 여러가지 이론 수업도 좋았어요. 공간이 춥다고 ...</td>\n",
       "      <td>5.0</td>\n",
       "      <td>[프립 MD PICK!] 술술 놀면서 수제 맥주 만들기</td>\n",
       "      <td>맥주</td>\n",
       "      <td>송파/강동</td>\n",
       "      <td>50000</td>\n",
       "      <td>남친이랑 같이 맥주 만들러 갔어요  여러가지 이론 수업도 좋았어요  공간이 춥다고 ...</td>\n",
       "      <td>남친이랑 같이 맥주 만들러 갔어요 여러 가지 이론 수업도 좋았어요 공간이 춥다고 생...</td>\n",
       "      <td>I went to make beer with my boyfriend. I liked...</td>\n",
       "      <td>went make beer boyfriend liked theory class li...</td>\n",
       "    </tr>\n",
       "    <tr>\n",
       "      <th>2</th>\n",
       "      <td>최홍성2022년 3월 6일 11:09 작성</td>\n",
       "      <td>알고먹어야 더 맛있다!\\n강의도체험도 진짜 추천합니다!\\n세시간이 짧았고 맥주도 진...</td>\n",
       "      <td>5.0</td>\n",
       "      <td>[프립 MD PICK!] 술술 놀면서 수제 맥주 만들기</td>\n",
       "      <td>맥주</td>\n",
       "      <td>송파/강동</td>\n",
       "      <td>50000</td>\n",
       "      <td>알고먹어야 더 맛있다  강의도체험도 진짜 추천합니다  세시간이 짧았고 맥주도 진짜맛...</td>\n",
       "      <td>알고 먹어야 더 맛있다 강의도 체험도 진짜 추천합니다 세 시간이 짧았고 맥주도 진짜...</td>\n",
       "      <td>It is better to know. I really recommend lectu...</td>\n",
       "      <td>better know really recommend lectures experien...</td>\n",
       "    </tr>\n",
       "    <tr>\n",
       "      <th>3</th>\n",
       "      <td>송종훈2022년 3월 5일 22:37 작성</td>\n",
       "      <td>초보자도 알기 쉽게 설명을 너무 잘해주셨어요.  앞으로 맥주를 고를때 도움이 될 유...</td>\n",
       "      <td>5.0</td>\n",
       "      <td>[프립 MD PICK!] 술술 놀면서 수제 맥주 만들기</td>\n",
       "      <td>맥주</td>\n",
       "      <td>송파/강동</td>\n",
       "      <td>50000</td>\n",
       "      <td>초보자도 알기 쉽게 설명을 너무 잘해주셨어요   앞으로 맥주를 고를때 도움이 될 유...</td>\n",
       "      <td>초보자도 알기 쉽게 설명을 너무 잘해주셨어요 앞으로 맥주를 고를 때 도움이 될 유익...</td>\n",
       "      <td>Beginners have been very good at explaining it...</td>\n",
       "      <td>beginners good explaining easily good thing he...</td>\n",
       "    </tr>\n",
       "    <tr>\n",
       "      <th>4</th>\n",
       "      <td>남지윤2022년 3월 5일 22:13 작성</td>\n",
       "      <td>평소에 즐겨마시던 맥주였는데 모르는게 너무 많았네요ㅋㅋㅋㅋㅋ맥주에 대해서 너무 재밌...</td>\n",
       "      <td>5.0</td>\n",
       "      <td>[프립 MD PICK!] 술술 놀면서 수제 맥주 만들기</td>\n",
       "      <td>맥주</td>\n",
       "      <td>송파/강동</td>\n",
       "      <td>50000</td>\n",
       "      <td>평소에 즐겨마시던 맥주였는데 모르는게 너무 많았네요 맥주에 대해서 너무 재밌게 설명...</td>\n",
       "      <td>평소에 즐겨 마시던 맥주였는데 모르는 게 너무 많았네요 맥주에 대해서 너무 재밌게 ...</td>\n",
       "      <td>I usually had a lot of beer, but there was so ...</td>\n",
       "      <td>usually beer much know know time explained bee...</td>\n",
       "    </tr>\n",
       "    <tr>\n",
       "      <th>...</th>\n",
       "      <td>...</td>\n",
       "      <td>...</td>\n",
       "      <td>...</td>\n",
       "      <td>...</td>\n",
       "      <td>...</td>\n",
       "      <td>...</td>\n",
       "      <td>...</td>\n",
       "      <td>...</td>\n",
       "      <td>...</td>\n",
       "      <td>...</td>\n",
       "      <td>...</td>\n",
       "    </tr>\n",
       "    <tr>\n",
       "      <th>2064</th>\n",
       "      <td>영은2019년 6월 28일 23:25 작성</td>\n",
       "      <td>장점 \\n1. 호스트분이 나름의 경험과 노력을 통해 내용이 이해되기 쉽게 잘 정리한...</td>\n",
       "      <td>4.0</td>\n",
       "      <td>[서초] 단! 2시간으로 끝내는 와인의 세계</td>\n",
       "      <td>쿠킹</td>\n",
       "      <td>강남/서초</td>\n",
       "      <td>25000</td>\n",
       "      <td>장점  1  호스트분이 나름의 경험과 노력을 통해 내용이 이해되기 쉽게 잘 정리한 ...</td>\n",
       "      <td>장점 1 호스트분이 나름의 경험과 노력을 통해 내용이 이해되기 쉽게 잘 정리한 것을...</td>\n",
       "      <td>Advantages 1 Host's experience and effort to d...</td>\n",
       "      <td>advantages hosts experience effort deliver thi...</td>\n",
       "    </tr>\n",
       "    <tr>\n",
       "      <th>2065</th>\n",
       "      <td>Lime2019년 6월 28일 19:45 작성</td>\n",
       "      <td>안 좋은 후기 처음 남겨보네요..\\n내용보다도 강사님 태도가 거만.강압적.공격적ㅠ\\...</td>\n",
       "      <td>0.5</td>\n",
       "      <td>[서초] 단! 2시간으로 끝내는 와인의 세계</td>\n",
       "      <td>쿠킹</td>\n",
       "      <td>강남/서초</td>\n",
       "      <td>25000</td>\n",
       "      <td>안 좋은 후기 처음 남겨보네요   내용보다도 강사님 태도가 거만 강압적 공격적  강...</td>\n",
       "      <td>안 좋은 후기 처음 남겨 보네요 내용보다도 강사님 태도가 거만 강압적 공격적 강사님...</td>\n",
       "      <td>It's my first time leaving a bad review More t...</td>\n",
       "      <td>first time leaving review more content instruc...</td>\n",
       "    </tr>\n",
       "    <tr>\n",
       "      <th>2066</th>\n",
       "      <td>이지은2019년 6월 28일 10:29 작성</td>\n",
       "      <td>강사님,\\n저 거짓말한거 없구요\\n저 저격하실까봐 정확하게 안밝혔습니다 \\n무서워서...</td>\n",
       "      <td>0.5</td>\n",
       "      <td>[서초] 단! 2시간으로 끝내는 와인의 세계</td>\n",
       "      <td>쿠킹</td>\n",
       "      <td>강남/서초</td>\n",
       "      <td>25000</td>\n",
       "      <td>강사님  저 거짓말한거 없구요 저 저격하실까봐 정확하게 안밝혔습니다  무서워서요 그...</td>\n",
       "      <td>강사님 저 거짓말한 거 없구요 저 저격하실까봐 정확하게 안 밝혔습니다 무서워서 요 ...</td>\n",
       "      <td>I didn't lie. I didn't tell you exactly becaus...</td>\n",
       "      <td>didnt didnt tell exactly thought going shoot s...</td>\n",
       "    </tr>\n",
       "    <tr>\n",
       "      <th>2067</th>\n",
       "      <td>하나2019년 6월 27일 16:16 작성</td>\n",
       "      <td>별로\\n위치도 잘못적어두시고 내용도 말투도 별로 소모임홍보하러오셨는지...</td>\n",
       "      <td>0.5</td>\n",
       "      <td>[서초] 단! 2시간으로 끝내는 와인의 세계</td>\n",
       "      <td>쿠킹</td>\n",
       "      <td>강남/서초</td>\n",
       "      <td>25000</td>\n",
       "      <td>별로 위치도 잘못적어두시고 내용도 말투도 별로 소모임홍보하러오셨는지</td>\n",
       "      <td>별로 위치도 잘못 적어 두시고 내용도 말투도 별로 소모임 홍보하러 오셨는지</td>\n",
       "      <td>I don't know if you're here to promote the sma...</td>\n",
       "      <td>dont know youre promote small group</td>\n",
       "    </tr>\n",
       "    <tr>\n",
       "      <th>2068</th>\n",
       "      <td>이민지2019년 6월 23일 2:16 작성</td>\n",
       "      <td>강의 자체는 좋았습니다 알아듣기 쉽고!\\n다만, 본인이 모임장으로 활동하는 네이버 ...</td>\n",
       "      <td>0.5</td>\n",
       "      <td>[서초] 단! 2시간으로 끝내는 와인의 세계</td>\n",
       "      <td>쿠킹</td>\n",
       "      <td>강남/서초</td>\n",
       "      <td>25000</td>\n",
       "      <td>강의 자체는 좋았습니다 알아듣기 쉽고  다만  본인이 모임장으로 활동하는 네이버 카...</td>\n",
       "      <td>강의 자체는 좋았습니다 알아듣기 쉽고 다만 본인이 모임장으로 활동하는 네이버 카페를...</td>\n",
       "      <td>The lecture itself was good It's easy to under...</td>\n",
       "      <td>lecture good easy understand came lecture felt...</td>\n",
       "    </tr>\n",
       "  </tbody>\n",
       "</table>\n",
       "<p>2069 rows × 11 columns</p>\n",
       "</div>"
      ],
      "text/plain": [
       "                             날짜  \\\n",
       "0       김경민2022년 3월 10일 0:26 작성   \n",
       "1       오상빈2022년 3월 6일 21:33 작성   \n",
       "2       최홍성2022년 3월 6일 11:09 작성   \n",
       "3       송종훈2022년 3월 5일 22:37 작성   \n",
       "4       남지윤2022년 3월 5일 22:13 작성   \n",
       "...                         ...   \n",
       "2064    영은2019년 6월 28일 23:25 작성   \n",
       "2065  Lime2019년 6월 28일 19:45 작성   \n",
       "2066   이지은2019년 6월 28일 10:29 작성   \n",
       "2067    하나2019년 6월 27일 16:16 작성   \n",
       "2068    이민지2019년 6월 23일 2:16 작성   \n",
       "\n",
       "                                                     내용   별점  \\\n",
       "0     정말 좋았습니다\\n연인과 함께 체험하기 좋아요!\\n맥주에 대해 알기쉽게 설명도 해주...  5.0   \n",
       "1     남친이랑 같이 맥주 만들러 갔어요! 여러가지 이론 수업도 좋았어요. 공간이 춥다고 ...  5.0   \n",
       "2     알고먹어야 더 맛있다!\\n강의도체험도 진짜 추천합니다!\\n세시간이 짧았고 맥주도 진...  5.0   \n",
       "3     초보자도 알기 쉽게 설명을 너무 잘해주셨어요.  앞으로 맥주를 고를때 도움이 될 유...  5.0   \n",
       "4     평소에 즐겨마시던 맥주였는데 모르는게 너무 많았네요ㅋㅋㅋㅋㅋ맥주에 대해서 너무 재밌...  5.0   \n",
       "...                                                 ...  ...   \n",
       "2064  장점 \\n1. 호스트분이 나름의 경험과 노력을 통해 내용이 이해되기 쉽게 잘 정리한...  4.0   \n",
       "2065  안 좋은 후기 처음 남겨보네요..\\n내용보다도 강사님 태도가 거만.강압적.공격적ㅠ\\...  0.5   \n",
       "2066  강사님,\\n저 거짓말한거 없구요\\n저 저격하실까봐 정확하게 안밝혔습니다 \\n무서워서...  0.5   \n",
       "2067          별로\\n위치도 잘못적어두시고 내용도 말투도 별로 소모임홍보하러오셨는지...  0.5   \n",
       "2068  강의 자체는 좋았습니다 알아듣기 쉽고!\\n다만, 본인이 모임장으로 활동하는 네이버 ...  0.5   \n",
       "\n",
       "                                  제목 카테고리     지역     가격  \\\n",
       "0     [프립 MD PICK!] 술술 놀면서 수제 맥주 만들기   맥주  송파/강동  50000   \n",
       "1     [프립 MD PICK!] 술술 놀면서 수제 맥주 만들기   맥주  송파/강동  50000   \n",
       "2     [프립 MD PICK!] 술술 놀면서 수제 맥주 만들기   맥주  송파/강동  50000   \n",
       "3     [프립 MD PICK!] 술술 놀면서 수제 맥주 만들기   맥주  송파/강동  50000   \n",
       "4     [프립 MD PICK!] 술술 놀면서 수제 맥주 만들기   맥주  송파/강동  50000   \n",
       "...                              ...  ...    ...    ...   \n",
       "2064        [서초] 단! 2시간으로 끝내는 와인의 세계   쿠킹  강남/서초  25000   \n",
       "2065        [서초] 단! 2시간으로 끝내는 와인의 세계   쿠킹  강남/서초  25000   \n",
       "2066        [서초] 단! 2시간으로 끝내는 와인의 세계   쿠킹  강남/서초  25000   \n",
       "2067        [서초] 단! 2시간으로 끝내는 와인의 세계   쿠킹  강남/서초  25000   \n",
       "2068        [서초] 단! 2시간으로 끝내는 와인의 세계   쿠킹  강남/서초  25000   \n",
       "\n",
       "                                                 review  \\\n",
       "0     정말 좋았습니다 연인과 함께 체험하기 좋아요  맥주에 대해 알기쉽게 설명도 해주시고...   \n",
       "1     남친이랑 같이 맥주 만들러 갔어요  여러가지 이론 수업도 좋았어요  공간이 춥다고 ...   \n",
       "2     알고먹어야 더 맛있다  강의도체험도 진짜 추천합니다  세시간이 짧았고 맥주도 진짜맛...   \n",
       "3     초보자도 알기 쉽게 설명을 너무 잘해주셨어요   앞으로 맥주를 고를때 도움이 될 유...   \n",
       "4     평소에 즐겨마시던 맥주였는데 모르는게 너무 많았네요 맥주에 대해서 너무 재밌게 설명...   \n",
       "...                                                 ...   \n",
       "2064  장점  1  호스트분이 나름의 경험과 노력을 통해 내용이 이해되기 쉽게 잘 정리한 ...   \n",
       "2065  안 좋은 후기 처음 남겨보네요   내용보다도 강사님 태도가 거만 강압적 공격적  강...   \n",
       "2066  강사님  저 거짓말한거 없구요 저 저격하실까봐 정확하게 안밝혔습니다  무서워서요 그...   \n",
       "2067           별로 위치도 잘못적어두시고 내용도 말투도 별로 소모임홍보하러오셨는지      \n",
       "2068  강의 자체는 좋았습니다 알아듣기 쉽고  다만  본인이 모임장으로 활동하는 네이버 카...   \n",
       "\n",
       "                                               s_review  \\\n",
       "0     정말 좋았습니다 연인과 함께 체험하기 좋아요 맥주에 대해 알기 쉽게 설명도 해주시고...   \n",
       "1     남친이랑 같이 맥주 만들러 갔어요 여러 가지 이론 수업도 좋았어요 공간이 춥다고 생...   \n",
       "2     알고 먹어야 더 맛있다 강의도 체험도 진짜 추천합니다 세 시간이 짧았고 맥주도 진짜...   \n",
       "3     초보자도 알기 쉽게 설명을 너무 잘해주셨어요 앞으로 맥주를 고를 때 도움이 될 유익...   \n",
       "4     평소에 즐겨 마시던 맥주였는데 모르는 게 너무 많았네요 맥주에 대해서 너무 재밌게 ...   \n",
       "...                                                 ...   \n",
       "2064  장점 1 호스트분이 나름의 경험과 노력을 통해 내용이 이해되기 쉽게 잘 정리한 것을...   \n",
       "2065  안 좋은 후기 처음 남겨 보네요 내용보다도 강사님 태도가 거만 강압적 공격적 강사님...   \n",
       "2066  강사님 저 거짓말한 거 없구요 저 저격하실까봐 정확하게 안 밝혔습니다 무서워서 요 ...   \n",
       "2067          별로 위치도 잘못 적어 두시고 내용도 말투도 별로 소모임 홍보하러 오셨는지   \n",
       "2068  강의 자체는 좋았습니다 알아듣기 쉽고 다만 본인이 모임장으로 활동하는 네이버 카페를...   \n",
       "\n",
       "                                                     번역  \\\n",
       "0     It was really good to experience it with my lo...   \n",
       "1     I went to make beer with my boyfriend. I liked...   \n",
       "2     It is better to know. I really recommend lectu...   \n",
       "3     Beginners have been very good at explaining it...   \n",
       "4     I usually had a lot of beer, but there was so ...   \n",
       "...                                                 ...   \n",
       "2064  Advantages 1 Host's experience and effort to d...   \n",
       "2065  It's my first time leaving a bad review More t...   \n",
       "2066  I didn't lie. I didn't tell you exactly becaus...   \n",
       "2067  I don't know if you're here to promote the sma...   \n",
       "2068  The lecture itself was good It's easy to under...   \n",
       "\n",
       "                                           t_preprocess  \n",
       "0     really good experience lover really good expla...  \n",
       "1     went make beer boyfriend liked theory class li...  \n",
       "2     better know really recommend lectures experien...  \n",
       "3     beginners good explaining easily good thing he...  \n",
       "4     usually beer much know know time explained bee...  \n",
       "...                                                 ...  \n",
       "2064  advantages hosts experience effort deliver thi...  \n",
       "2065  first time leaving review more content instruc...  \n",
       "2066  didnt didnt tell exactly thought going shoot s...  \n",
       "2067                dont know youre promote small group  \n",
       "2068  lecture good easy understand came lecture felt...  \n",
       "\n",
       "[2069 rows x 11 columns]"
      ]
     },
     "execution_count": 261,
     "metadata": {},
     "output_type": "execute_result"
    }
   ],
   "source": [
    "data"
   ]
  },
  {
   "cell_type": "code",
   "execution_count": 262,
   "metadata": {},
   "outputs": [],
   "source": [
    "# 와인 데이터 뽑아내기 \n",
    "wine = data[(data['제목'] == '생활소믈리에 기초 와인 강의')|\n",
    "            (data['제목'] == '[서초] 단! 2시간으로 끝내는 와인의 세계')]"
   ]
  },
  {
   "cell_type": "code",
   "execution_count": 264,
   "metadata": {},
   "outputs": [
    {
     "name": "stderr",
     "output_type": "stream",
     "text": [
      "/Users/jin/opt/anaconda3/envs/NLP/lib/python3.7/site-packages/ipykernel_launcher.py:1: SettingWithCopyWarning: \n",
      "A value is trying to be set on a copy of a slice from a DataFrame.\n",
      "Try using .loc[row_indexer,col_indexer] = value instead\n",
      "\n",
      "See the caveats in the documentation: https://pandas.pydata.org/pandas-docs/stable/user_guide/indexing.html#returning-a-view-versus-a-copy\n",
      "  \"\"\"Entry point for launching an IPython kernel.\n"
     ]
    }
   ],
   "source": [
    "# 카테고리 데이터 변경 ( 쿠킹 -> 와인)\n",
    "wine['카테고리'] = wine['카테고리'].replace('쿠킹','와인')"
   ]
  },
  {
   "cell_type": "code",
   "execution_count": 268,
   "metadata": {},
   "outputs": [],
   "source": [
    "# 기존 데이터에서 와인데이터 띄어내기 \n",
    "data = data.drop(wine.index)"
   ]
  },
  {
   "cell_type": "code",
   "execution_count": 270,
   "metadata": {},
   "outputs": [],
   "source": [
    "# 데이터에 새로만든 와인데이터 붙이기\n",
    "data = pd.concat([data, wine])"
   ]
  },
  {
   "cell_type": "code",
   "execution_count": 274,
   "metadata": {},
   "outputs": [],
   "source": [
    "# 베이킹 데이터\n",
    "bake = data[data['제목'] == '[제주한바퀴] 제주로컬푸드 이용한 셀프 베이킹 (예약 가능)']"
   ]
  },
  {
   "cell_type": "code",
   "execution_count": 276,
   "metadata": {},
   "outputs": [
    {
     "name": "stderr",
     "output_type": "stream",
     "text": [
      "/Users/jin/opt/anaconda3/envs/NLP/lib/python3.7/site-packages/ipykernel_launcher.py:2: SettingWithCopyWarning: \n",
      "A value is trying to be set on a copy of a slice from a DataFrame.\n",
      "Try using .loc[row_indexer,col_indexer] = value instead\n",
      "\n",
      "See the caveats in the documentation: https://pandas.pydata.org/pandas-docs/stable/user_guide/indexing.html#returning-a-view-versus-a-copy\n",
      "  \n"
     ]
    }
   ],
   "source": [
    "# 카테고리 데이터 변경 ( 쿠킹 -> 베이킹 )\n",
    "bake['카테고리'] = bake['카테고리'].replace('쿠킹','베이킹')"
   ]
  },
  {
   "cell_type": "code",
   "execution_count": 280,
   "metadata": {},
   "outputs": [],
   "source": [
    "# 기존 데이터에서 베이킹 데이터 띄어내기\n",
    "data = data.drop(bake.index)"
   ]
  },
  {
   "cell_type": "code",
   "execution_count": 281,
   "metadata": {},
   "outputs": [],
   "source": [
    "# 기존 데이터에 바꾼 데이터 붙이기 \n",
    "data = pd.concat([data,bake])"
   ]
  },
  {
   "cell_type": "code",
   "execution_count": 284,
   "metadata": {},
   "outputs": [
    {
     "data": {
      "text/plain": [
       "array(['맥주', '쿠킹', '와인', '베이킹'], dtype=object)"
      ]
     },
     "execution_count": 284,
     "metadata": {},
     "output_type": "execute_result"
    }
   ],
   "source": [
    "data.카테고리.unique()"
   ]
  },
  {
   "cell_type": "code",
   "execution_count": 283,
   "metadata": {},
   "outputs": [
    {
     "data": {
      "text/plain": [
       "array(['[프립 MD PICK!] 술술 놀면서 수제 맥주 만들기', '[스페셜] 술술 놀면서 수제 맥주 만들기',\n",
       "       '혼밥요리? 김동금의 비밀요리 (예약 가능)', '알록달록 컬러 파스타 만들기 (예약 가능)',\n",
       "       '퇴근하고, 요리하고, 집밥 먹자! (예약 가능)', '생활소믈리에 기초 와인 강의',\n",
       "       '[서초] 단! 2시간으로 끝내는 와인의 세계', '[제주한바퀴] 제주로컬푸드 이용한 셀프 베이킹 (예약 가능)'],\n",
       "      dtype=object)"
      ]
     },
     "execution_count": 283,
     "metadata": {},
     "output_type": "execute_result"
    }
   ],
   "source": [
    "data.제목.unique()"
   ]
  },
  {
   "cell_type": "code",
   "execution_count": 285,
   "metadata": {},
   "outputs": [],
   "source": [
    "change_data = data.copy()"
   ]
  },
  {
   "cell_type": "markdown",
   "metadata": {},
   "source": [
    "## 전체 데이터에 카테고리 수정한 데이터 붙여넣기 \n",
    "- 기존 전체 데이터에 쿠킹 카테고리 데이터 제거\n",
    "- 바꾼 데이터 붙이기 "
   ]
  },
  {
   "cell_type": "code",
   "execution_count": 296,
   "metadata": {},
   "outputs": [
    {
     "name": "stdout",
     "output_type": "stream",
     "text": [
      "11489\n",
      "2069\n"
     ]
    }
   ],
   "source": [
    "print(len(data))\n",
    "print(len(change_data))"
   ]
  },
  {
   "cell_type": "code",
   "execution_count": 299,
   "metadata": {},
   "outputs": [
    {
     "data": {
      "text/plain": [
       "2069"
      ]
     },
     "execution_count": 299,
     "metadata": {},
     "output_type": "execute_result"
    }
   ],
   "source": [
    "len(data[data['카테고리']=='쿠킹'].index)"
   ]
  },
  {
   "cell_type": "code",
   "execution_count": 301,
   "metadata": {},
   "outputs": [],
   "source": [
    "# 기존 데이터에서 쿠킹 카테고리 데이터 제거\n",
    "data = data.drop(data[data['카테고리']=='쿠킹'].index)"
   ]
  },
  {
   "cell_type": "code",
   "execution_count": 303,
   "metadata": {},
   "outputs": [],
   "source": [
    "# 기존 데이터에 변경된 데이터 붙이기 \n",
    "new_data = pd.concat([data,change_data])"
   ]
  },
  {
   "cell_type": "code",
   "execution_count": 304,
   "metadata": {},
   "outputs": [],
   "source": [
    "new_data.reset_index(drop=True, inplace=True)"
   ]
  },
  {
   "cell_type": "code",
   "execution_count": 308,
   "metadata": {},
   "outputs": [
    {
     "data": {
      "text/plain": [
       "135"
      ]
     },
     "execution_count": 308,
     "metadata": {},
     "output_type": "execute_result"
    }
   ],
   "source": [
    "len(new_data[new_data['카테고리'] == '쿠킹'])"
   ]
  },
  {
   "cell_type": "code",
   "execution_count": 309,
   "metadata": {},
   "outputs": [],
   "source": [
    "# 데이터 중복제거 및 쿠킹 카테고리 수정 데이터 저장 \n",
    "new_data.to_csv('/Users/jin/Documents/pythonstudy/NLP/frip_data/frip_data_translate_part11_full_ver2.csv')"
   ]
  },
  {
   "cell_type": "code",
   "execution_count": null,
   "metadata": {},
   "outputs": [],
   "source": []
  }
 ],
 "metadata": {
  "kernelspec": {
   "display_name": "Python 3",
   "language": "python",
   "name": "python3"
  },
  "language_info": {
   "codemirror_mode": {
    "name": "ipython",
    "version": 3
   },
   "file_extension": ".py",
   "mimetype": "text/x-python",
   "name": "python",
   "nbconvert_exporter": "python",
   "pygments_lexer": "ipython3",
   "version": "3.7.7"
  }
 },
 "nbformat": 4,
 "nbformat_minor": 4
}
