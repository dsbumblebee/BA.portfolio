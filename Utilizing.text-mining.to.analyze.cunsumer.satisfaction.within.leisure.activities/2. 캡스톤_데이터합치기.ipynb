{
 "cells": [
  {
   "cell_type": "code",
   "execution_count": 1,
   "metadata": {},
   "outputs": [],
   "source": [
    "import pandas as pd"
   ]
  },
  {
   "cell_type": "markdown",
   "metadata": {},
   "source": [
    "# 데이터 전체로 합치기\n",
    "- 개별 활동별로 저장한 데이터 합치는 작업"
   ]
  },
  {
   "cell_type": "code",
   "execution_count": 2,
   "metadata": {},
   "outputs": [],
   "source": [
    "categories = ['bake','beer','bicycle','camp','climb','cook',\n",
    "             'dance','dive','diy','fitness','handcraft',\n",
    "             'investment','longboard','music','paint','racket',\n",
    "             'social','study','surf','tour','walk','wine','yoga']"
   ]
  },
  {
   "cell_type": "code",
   "execution_count": 3,
   "metadata": {},
   "outputs": [],
   "source": [
    "location = '/Users/jin/Documents/pythonstudy/NLP/frip_data/frip_{0}{1}.csv'"
   ]
  },
  {
   "cell_type": "code",
   "execution_count": 5,
   "metadata": {},
   "outputs": [],
   "source": [
    "# 위치 리스트 생성\n",
    "locs = []\n",
    "for i in categories:\n",
    "    for j in range(1,6):\n",
    "        loc = location.format(i,j)\n",
    "        locs.append(loc)"
   ]
  },
  {
   "cell_type": "code",
   "execution_count": 15,
   "metadata": {},
   "outputs": [],
   "source": [
    "# 위치 데이터로 파일 불러오면서 붙이기 \n",
    "datas = pd.DataFrame()\n",
    "for loc in locs:\n",
    "    try :\n",
    "        data = pd.read_csv(loc, index_col=0)\n",
    "        datas = datas.append(data)\n",
    "    except :\n",
    "        continue"
   ]
  },
  {
   "cell_type": "code",
   "execution_count": 18,
   "metadata": {
    "scrolled": true
   },
   "outputs": [
    {
     "data": {
      "text/plain": [
       "13130"
      ]
     },
     "execution_count": 18,
     "metadata": {},
     "output_type": "execute_result"
    }
   ],
   "source": [
    "# 총 데이터수 \n",
    "len(datas)"
   ]
  },
  {
   "cell_type": "code",
   "execution_count": 21,
   "metadata": {},
   "outputs": [],
   "source": [
    "datas.reset_index(drop=True, inplace=True)"
   ]
  },
  {
   "cell_type": "code",
   "execution_count": 25,
   "metadata": {},
   "outputs": [],
   "source": [
    "datas.to_csv('/Users/jin/Documents/pythonstudy/NLP/frip_data/frip_data_all.csv')"
   ]
  },
  {
   "cell_type": "code",
   "execution_count": 38,
   "metadata": {},
   "outputs": [
    {
     "data": {
      "text/html": [
       "<div>\n",
       "<style scoped>\n",
       "    .dataframe tbody tr th:only-of-type {\n",
       "        vertical-align: middle;\n",
       "    }\n",
       "\n",
       "    .dataframe tbody tr th {\n",
       "        vertical-align: top;\n",
       "    }\n",
       "\n",
       "    .dataframe thead th {\n",
       "        text-align: right;\n",
       "    }\n",
       "</style>\n",
       "<table border=\"1\" class=\"dataframe\">\n",
       "  <thead>\n",
       "    <tr style=\"text-align: right;\">\n",
       "      <th></th>\n",
       "      <th>날짜</th>\n",
       "      <th>내용</th>\n",
       "      <th>별점</th>\n",
       "      <th>제목</th>\n",
       "      <th>카테고리</th>\n",
       "      <th>지역</th>\n",
       "      <th>가격</th>\n",
       "    </tr>\n",
       "  </thead>\n",
       "  <tbody>\n",
       "    <tr>\n",
       "      <th>13125</th>\n",
       "      <td>강남2020년 5월 10일 0:12 작성</td>\n",
       "      <td>여자친구의 제안으로 처음 플라잉요가를 해봤습니다.\\n선생님께서 미리 요가를 해본 적...</td>\n",
       "      <td>5.0</td>\n",
       "      <td>[양재] 플라잉요가 개인 / 듀엣 레슨 (1:1/소규모) (예약 가능)</td>\n",
       "      <td>요가</td>\n",
       "      <td>강남/서초</td>\n",
       "      <td>80000</td>\n",
       "    </tr>\n",
       "    <tr>\n",
       "      <th>13126</th>\n",
       "      <td>용인2020년 5월 3일 12:02 작성</td>\n",
       "      <td>두번째 이용이었습니다.\\n처음 하고 플라잉 요가가 너무 재밌어서 집에 해먹을 달아버...</td>\n",
       "      <td>5.0</td>\n",
       "      <td>[양재] 플라잉요가 개인 / 듀엣 레슨 (1:1/소규모) (예약 가능)</td>\n",
       "      <td>요가</td>\n",
       "      <td>강남/서초</td>\n",
       "      <td>80000</td>\n",
       "    </tr>\n",
       "    <tr>\n",
       "      <th>13127</th>\n",
       "      <td>sunny2020년 4월 25일 15:24 작성</td>\n",
       "      <td>듀엣으로 레슨받았는데  힐링되고 너무  좋았어요\\n살짝 무섭긴했지만 너무 재미있었어...</td>\n",
       "      <td>5.0</td>\n",
       "      <td>[양재] 플라잉요가 개인 / 듀엣 레슨 (1:1/소규모) (예약 가능)</td>\n",
       "      <td>요가</td>\n",
       "      <td>강남/서초</td>\n",
       "      <td>80000</td>\n",
       "    </tr>\n",
       "    <tr>\n",
       "      <th>13128</th>\n",
       "      <td>용인2020년 2월 16일 14:27 작성</td>\n",
       "      <td>처음하는 플라잉 요가였어요\\n선생님께서 손동작 어디힘주는지 어디로시선보내는지 아주 ...</td>\n",
       "      <td>5.0</td>\n",
       "      <td>[양재] 플라잉요가 개인 / 듀엣 레슨 (1:1/소규모) (예약 가능)</td>\n",
       "      <td>요가</td>\n",
       "      <td>강남/서초</td>\n",
       "      <td>80000</td>\n",
       "    </tr>\n",
       "    <tr>\n",
       "      <th>13129</th>\n",
       "      <td>송하경2019년 12월 21일 15:13 작성</td>\n",
       "      <td>남자친구랑 즐겁게 데이트했어요~ 수준에 맞게 차근차근알려주셔서 좋았어요 사진도 찍어...</td>\n",
       "      <td>4.5</td>\n",
       "      <td>[양재] 플라잉요가 개인 / 듀엣 레슨 (1:1/소규모) (예약 가능)</td>\n",
       "      <td>요가</td>\n",
       "      <td>강남/서초</td>\n",
       "      <td>80000</td>\n",
       "    </tr>\n",
       "  </tbody>\n",
       "</table>\n",
       "</div>"
      ],
      "text/plain": [
       "                               날짜  \\\n",
       "13125      강남2020년 5월 10일 0:12 작성   \n",
       "13126      용인2020년 5월 3일 12:02 작성   \n",
       "13127  sunny2020년 4월 25일 15:24 작성   \n",
       "13128     용인2020년 2월 16일 14:27 작성   \n",
       "13129   송하경2019년 12월 21일 15:13 작성   \n",
       "\n",
       "                                                      내용   별점  \\\n",
       "13125  여자친구의 제안으로 처음 플라잉요가를 해봤습니다.\\n선생님께서 미리 요가를 해본 적...  5.0   \n",
       "13126  두번째 이용이었습니다.\\n처음 하고 플라잉 요가가 너무 재밌어서 집에 해먹을 달아버...  5.0   \n",
       "13127  듀엣으로 레슨받았는데  힐링되고 너무  좋았어요\\n살짝 무섭긴했지만 너무 재미있었어...  5.0   \n",
       "13128  처음하는 플라잉 요가였어요\\n선생님께서 손동작 어디힘주는지 어디로시선보내는지 아주 ...  5.0   \n",
       "13129  남자친구랑 즐겁게 데이트했어요~ 수준에 맞게 차근차근알려주셔서 좋았어요 사진도 찍어...  4.5   \n",
       "\n",
       "                                            제목 카테고리     지역     가격  \n",
       "13125  [양재] 플라잉요가 개인 / 듀엣 레슨 (1:1/소규모) (예약 가능)   요가  강남/서초  80000  \n",
       "13126  [양재] 플라잉요가 개인 / 듀엣 레슨 (1:1/소규모) (예약 가능)   요가  강남/서초  80000  \n",
       "13127  [양재] 플라잉요가 개인 / 듀엣 레슨 (1:1/소규모) (예약 가능)   요가  강남/서초  80000  \n",
       "13128  [양재] 플라잉요가 개인 / 듀엣 레슨 (1:1/소규모) (예약 가능)   요가  강남/서초  80000  \n",
       "13129  [양재] 플라잉요가 개인 / 듀엣 레슨 (1:1/소규모) (예약 가능)   요가  강남/서초  80000  "
      ]
     },
     "execution_count": 38,
     "metadata": {},
     "output_type": "execute_result"
    }
   ],
   "source": [
    "datas.tail()"
   ]
  }
 ],
 "metadata": {
  "kernelspec": {
   "display_name": "Python 3",
   "language": "python",
   "name": "python3"
  },
  "language_info": {
   "codemirror_mode": {
    "name": "ipython",
    "version": 3
   },
   "file_extension": ".py",
   "mimetype": "text/x-python",
   "name": "python",
   "nbconvert_exporter": "python",
   "pygments_lexer": "ipython3",
   "version": "3.8.3"
  }
 },
 "nbformat": 4,
 "nbformat_minor": 4
}
