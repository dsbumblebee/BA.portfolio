{
 "cells": [
  {
   "cell_type": "markdown",
   "metadata": {},
   "source": [
    "# LDA"
   ]
  },
  {
   "cell_type": "markdown",
   "metadata": {},
   "source": [
    "## Contents\n",
    "- 1. 데이터 전처리\n",
    "    - 1-1. 알파벳만 남기기\n",
    "    - 1-2. 스톱워드 제거\n",
    "    - 1-3. 단어 원형화 \n",
    "    - 1-4. 딕셔너리, 코퍼스 만들기\n",
    "    \n",
    "- 2. LDA\n",
    "    - 2-1. Coherence score\n",
    "    - 2-2. 토픽모델링 "
   ]
  },
  {
   "cell_type": "markdown",
   "metadata": {},
   "source": [
    "## 1. 데이터 전처리"
   ]
  },
  {
   "cell_type": "code",
   "execution_count": null,
   "metadata": {},
   "outputs": [],
   "source": [
    "import pandas as pd\n",
    "import matplotlib.pyplot as plt\n",
    "import seaborn as sns\n",
    "%matplotlib inline\n",
    "import numpy as np\n",
    "pd.set_option('display.max_rows',100)\n",
    "import re"
   ]
  },
  {
   "cell_type": "code",
   "execution_count": 2,
   "metadata": {},
   "outputs": [],
   "source": [
    "data = pd.read_csv('/Users/jin/Documents/pythonstudy/NLP/frip_data/frip_data_translate_part11_full_ver2.csv', index_col=0)"
   ]
  },
  {
   "cell_type": "code",
   "execution_count": 3,
   "metadata": {},
   "outputs": [],
   "source": [
    "data = data[data['제목'] == '[2030] 국내최초 1박2일 불멍스키 혼펜 _따로 또 같이']\n",
    "data.reset_index(drop=True, inplace=True)"
   ]
  },
  {
   "cell_type": "markdown",
   "metadata": {},
   "source": [
    "## 1-1. 알파벳만 남기기"
   ]
  },
  {
   "cell_type": "code",
   "execution_count": 4,
   "metadata": {},
   "outputs": [
    {
     "name": "stdout",
     "output_type": "stream",
     "text": [
      "1. Raw : 추운 날씨였지만 1박2일 동안 재미 있었어요. 다른 계절에도  방문해보고 싶네요. 그리고 펜션냥이와  강아지가 또 보고 십네요.  다만 조를 나누다보니 제한된 인원만 친해지게 되서 아쉽게 느낍니다.\n",
      "2. Korean Preprocess : 추운 날씨였지만 1박2일 동안 재미 있었어요 다른 계절에도 방문해보고 싶네요 그리고 펜션 냥이와 강아지가 또 보고 십네요 다만 조를 나누다 보니 제한된 인원만 친해지게 되서 아쉽게 느낍니다\n",
      "3. Translate : It was cold weather, but it was fun for one night and two days. I want to visit other seasons. And I see pensions and dogs again. However, when I share the group, I feel sorry that only limited people get close\n",
      "5. After clean : It was cold weather but it was fun for one night and two days I want to visit other seasons And I see pensions and dogs again However when I share the group I feel sorry that only limited people get close\n"
     ]
    }
   ],
   "source": [
    "# 구두점 제거 \n",
    "def clean_text(d):\n",
    "    pattern = r'[^a-zA-Z\\s]'       # 정규표현식, 알파벳으로만 된 것 \n",
    "    text = re.sub(pattern, '', d)  # 패턴에 해당하는 것은 삭제 , 패턴에 해당하는 것은 '' 로 바꾼다, 데이터는 d다 \n",
    "    return text\n",
    "\n",
    "data['clean_word'] = data['번역'].apply(clean_text)\n",
    "\n",
    "# 데이터 체크\n",
    "print('1. Raw :',data['내용'][2])\n",
    "print('2. Korean Preprocess :',data['s_review'][2])\n",
    "print('3. Translate :',data['번역'][2])\n",
    "# print('4. After stopword :',bake['Drop_stopword'][2])\n",
    "print('5. After clean :',data['clean_word'][2])"
   ]
  },
  {
   "cell_type": "markdown",
   "metadata": {},
   "source": [
    "## 1-2. 스톱워드 처리"
   ]
  },
  {
   "cell_type": "code",
   "execution_count": 6,
   "metadata": {},
   "outputs": [],
   "source": [
    "# 스톱워드 처리\n",
    "import re\n",
    "from nltk.corpus import stopwords\n",
    "\n",
    "# stopword\n",
    "stop_word = stopwords.words('english')\n",
    "add_stopword = [\"I've\", \"really\",\"away\",'able','first','there',\n",
    "                'even',\"that's\",\"time\",'well','thank','ill',\n",
    "                \"can't\",\"time.\",\"time,\",\"week.\",'week',\"next\",\n",
    "                'host', \"something\",\"go\",\"I'll\",'ill',\"You're\",'youre',\n",
    "               'class']\n",
    "stop_word.extend(add_stopword)\n",
    "\n",
    "def clean_stopword(d):\n",
    "    #stop_words = stopwords.words('english')       # stopword \n",
    "    stop_words = stop_word\n",
    "    return ' '.join([w.lower() for w in d.split() if w not in stop_words and len(w) >3 ]) \n",
    "# stopword 제외, 3개 이하 제외, 소문자 "
   ]
  },
  {
   "cell_type": "code",
   "execution_count": 7,
   "metadata": {},
   "outputs": [],
   "source": [
    "data['Drop_stopword'] = data['clean_word'].apply(clean_stopword)"
   ]
  },
  {
   "cell_type": "code",
   "execution_count": 8,
   "metadata": {},
   "outputs": [
    {
     "name": "stdout",
     "output_type": "stream",
     "text": [
      "1. Raw : 추운 날씨였지만 1박2일 동안 재미 있었어요. 다른 계절에도  방문해보고 싶네요. 그리고 펜션냥이와  강아지가 또 보고 십네요.  다만 조를 나누다보니 제한된 인원만 친해지게 되서 아쉽게 느낍니다.\n",
      "2. Korean Preprocess : 추운 날씨였지만 1박2일 동안 재미 있었어요 다른 계절에도 방문해보고 싶네요 그리고 펜션 냥이와 강아지가 또 보고 십네요 다만 조를 나누다 보니 제한된 인원만 친해지게 되서 아쉽게 느낍니다\n",
      "3. Translate : It was cold weather, but it was fun for one night and two days. I want to visit other seasons. And I see pensions and dogs again. However, when I share the group, I feel sorry that only limited people get close\n",
      "4. After stopword : cold weather night days want visit seasons pensions dogs however share group feel sorry limited people close\n"
     ]
    }
   ],
   "source": [
    "# 데이터 체크\n",
    "print('1. Raw :',data['내용'][2])\n",
    "print('2. Korean Preprocess :',data['s_review'][2])\n",
    "print('3. Translate :',data['번역'][2])\n",
    "print('4. After stopword :',data['Drop_stopword'][2])"
   ]
  },
  {
   "cell_type": "markdown",
   "metadata": {},
   "source": [
    "## 1-3. 단어 원형화"
   ]
  },
  {
   "cell_type": "code",
   "execution_count": 9,
   "metadata": {},
   "outputs": [],
   "source": [
    "# lemmatize 함수 \n",
    "from nltk import sent_tokenize, word_tokenize, pos_tag\n",
    "from nltk.corpus import wordnet as wn\n",
    "from nltk.stem import WordNetLemmatizer\n",
    "def penn_to_wn(tag):\n",
    "    if tag.startswith('J'):  # 문자열.statswith('문자1') : 문자열 앞이 문자1로 시작하나?\n",
    "        return wn.ADJ\n",
    "    elif tag.startswith('N'):\n",
    "        return wn.NOUN\n",
    "    elif tag.startswith('R'):\n",
    "        return wn.ADV\n",
    "    elif tag.startswith('V'):\n",
    "        return wn.VERB\n",
    "    \n",
    "def token_lemma(raw_sentence):\n",
    "    lemmatizer = WordNetLemmatizer()\n",
    "    lemmas=[]\n",
    "\n",
    "    tagged_sentence = pos_tag(word_tokenize(raw_sentence))\n",
    "    for word, tag in tagged_sentence:\n",
    "            \n",
    "        wn_tag = penn_to_wn(tag)\n",
    "        if wn_tag not in (wn.NOUN, wn.ADJ, wn.ADV, wn.VERB):\n",
    "            continue  # 명사, 형용사, 부사, 동사가 아니면 아무것도 안한다.\n",
    "            \n",
    "        # 그렇지 않으면, 원형화 한다. (명사, 형용사, 부사면 원형화 한다.)\n",
    "        lemma = lemmatizer.lemmatize(word, pos=wn_tag)\n",
    "        lemmas.append(lemma)\n",
    "    return lemmas\n",
    "\n",
    "tokenized_data = data['Drop_stopword'].apply(token_lemma)"
   ]
  },
  {
   "cell_type": "code",
   "execution_count": 10,
   "metadata": {},
   "outputs": [],
   "source": [
    "# 데이터 체크\n",
    "\n",
    "def check_data(data, num):\n",
    "    print('1. Raw :',data['내용'][num])\n",
    "    print('2. Korean Preprocess :',data['s_review'][num])\n",
    "    print('3. Translate :',data['번역'][num])\n",
    "    print('4. After stopword :',data['Drop_stopword'][num])\n",
    "    print('5. After clean :',data['clean_word'][num])\n",
    "    print('6. tokens :', tokenized_data[num])"
   ]
  },
  {
   "cell_type": "code",
   "execution_count": 11,
   "metadata": {},
   "outputs": [
    {
     "name": "stdout",
     "output_type": "stream",
     "text": [
      "1. Raw : 너무 재밌고 좋았습니다 위스키도 자세히 설명해주시고 바베큐랑 불멍까지 완벽했어요ㅠㅠ감사합니다 들숨날숨에 번창하시길 바랍니다!! 날풀리면 또갈께요!!\n",
      "2. Korean Preprocess : 너무 재밌고 좋았습니다 위스키도 자세히 설명해주시고 바베큐랑 불멍까지 완벽했어요 감사합니다 들 숨날 숨에 번창하시길 바랍니다 날 풀리면 또 갈께 요\n",
      "3. Translate : It was so fun and good. You can explain the whiskey in detail, and the barbecue and the bum are perfect. Thank you.\n",
      "4. After stopword : good explain whiskey detail barbecue perfect thank\n",
      "5. After clean : It was so fun and good You can explain the whiskey in detail and the barbecue and the bum are perfect Thank you\n",
      "6. tokens : ['good', 'explain', 'whiskey', 'detail', 'barbecue', 'perfect', 'thank']\n"
     ]
    }
   ],
   "source": [
    "check_data(data,3)"
   ]
  },
  {
   "cell_type": "markdown",
   "metadata": {},
   "source": [
    "## 1-4. 딕셔너리, 코퍼스 만들기"
   ]
  },
  {
   "cell_type": "code",
   "execution_count": 12,
   "metadata": {},
   "outputs": [
    {
     "name": "stdout",
     "output_type": "stream",
     "text": [
      "[(2, 1), (6, 2), (7, 1), (12, 1), (13, 1), (14, 1), (15, 1), (16, 1), (17, 1), (18, 1), (19, 2), (20, 1), (21, 2), (22, 1), (23, 1), (24, 1), (25, 1), (26, 2), (27, 1), (28, 1), (29, 1), (30, 1), (31, 1), (32, 1), (33, 1), (34, 2), (35, 3), (36, 1), (37, 1), (38, 1), (39, 1), (40, 1), (41, 1), (42, 1), (43, 1), (44, 1), (45, 1), (46, 1), (47, 1), (48, 1), (49, 1), (50, 1), (51, 1), (52, 1), (53, 2), (54, 1), (55, 1), (56, 1), (57, 1), (58, 1), (59, 1), (60, 1), (61, 1), (62, 1), (63, 1), (64, 1), (65, 1), (66, 1), (67, 1), (68, 3), (69, 1), (70, 1), (71, 1), (72, 2), (73, 1), (74, 1), (75, 2), (76, 1), (77, 1), (78, 1), (79, 1), (80, 2), (81, 1), (82, 1), (83, 1), (84, 1), (85, 3)]\n"
     ]
    }
   ],
   "source": [
    "# 빈도 구하기\n",
    "# 딕셔너리 , 코퍼스 만들기 \n",
    "from gensim import corpora\n",
    "dictionary = corpora.Dictionary(tokenized_data)\n",
    "corpus = [dictionary.doc2bow(text) for text in tokenized_data]\n",
    "print(corpus[1]) "
   ]
  },
  {
   "cell_type": "markdown",
   "metadata": {},
   "source": [
    "## 2. LDA"
   ]
  },
  {
   "cell_type": "markdown",
   "metadata": {},
   "source": [
    "## 2-1. Coherence Score"
   ]
  },
  {
   "cell_type": "code",
   "execution_count": 13,
   "metadata": {},
   "outputs": [
    {
     "name": "stdout",
     "output_type": "stream",
     "text": [
      "[0.43194139608432264, 0.43215173986781596, 0.4799334169067258, 0.47294188640148416, 0.4633703878603722, 0.44035819417658995, 0.4431533093779182, 0.44237123418788793, 0.44690544890652156, 0.4370473092464079]\n"
     ]
    }
   ],
   "source": [
    "# 토픽 수 결정하기\n",
    "# 10개를 넘지 않는다고 가정 \n",
    "from gensim.models import LdaModel\n",
    "from gensim.models.coherencemodel import CoherenceModel\n",
    "\n",
    "min_topics, max_topics = 1, 11\n",
    "coherence_scores = []\n",
    "perplexs = []\n",
    "\n",
    "for num_topics in range(min_topics, max_topics):\n",
    "    model = LdaModel(corpus, num_topics = num_topics, id2word=dictionary,\n",
    "                    random_state=7)\n",
    "    coherence = CoherenceModel(model = model, \n",
    "                              texts = tokenized_data, # 여기도 바꿔줘야 함\n",
    "                              dictionary=dictionary)\n",
    "    \n",
    "    coherence_scores.append(coherence.get_coherence())\n",
    "    perplexs.append(model.log_perplexity(corpus))\n",
    "\n",
    "print(coherence_scores)"
   ]
  },
  {
   "cell_type": "code",
   "execution_count": 14,
   "metadata": {},
   "outputs": [
    {
     "data": {
      "image/png": "[encoded data removed]",
      "text/plain": [
       "<Figure size 432x288 with 1 Axes>"
      ]
     },
     "metadata": {
      "needs_background": "light"
     },
     "output_type": "display_data"
    }
   ],
   "source": [
    "x = np.arange(1,11,1)\n",
    "y = coherence_scores \n",
    "g = sns.lineplot(x,y)\n",
    "g.set_xticks(x)\n",
    "plt.show()"
   ]
  },
  {
   "cell_type": "markdown",
   "metadata": {},
   "source": [
    "## 2-2. 토픽모델링"
   ]
  },
  {
   "cell_type": "code",
   "execution_count": 17,
   "metadata": {},
   "outputs": [
    {
     "name": "stdout",
     "output_type": "stream",
     "text": [
      "(0, '0.031*\"good\" + 0.016*\"rest\" + 0.012*\"happy\" + 0.011*\"alone\" + 0.011*\"take\" + 0.010*\"heal\" + 0.009*\"come\" + 0.009*\"think\" + 0.009*\"like\" + 0.009*\"go\"')\n",
      "(1, '0.013*\"good\" + 0.013*\"go\" + 0.012*\"night\" + 0.012*\"experience\" + 0.012*\"make\" + 0.012*\"whiskey\" + 0.011*\"people\" + 0.011*\"manager\" + 0.010*\"cute\" + 0.009*\"much\"')\n",
      "(2, '0.030*\"good\" + 0.016*\"want\" + 0.012*\"pension\" + 0.011*\"happy\" + 0.010*\"whiskey\" + 0.008*\"life\" + 0.008*\"talk\" + 0.008*\"night\" + 0.007*\"people\" + 0.007*\"like\"')\n",
      "(3, '0.021*\"good\" + 0.019*\"people\" + 0.019*\"want\" + 0.013*\"happy\" + 0.012*\"take\" + 0.011*\"talk\" + 0.011*\"think\" + 0.011*\"alone\" + 0.011*\"come\" + 0.010*\"place\"')\n",
      "(4, '0.059*\"good\" + 0.023*\"people\" + 0.016*\"think\" + 0.014*\"happy\" + 0.012*\"come\" + 0.011*\"room\" + 0.011*\"alone\" + 0.009*\"meat\" + 0.009*\"want\" + 0.008*\"delicious\"')\n",
      "(5, '0.027*\"alone\" + 0.023*\"good\" + 0.015*\"go\" + 0.014*\"like\" + 0.014*\"come\" + 0.012*\"heal\" + 0.012*\"enjoy\" + 0.012*\"night\" + 0.011*\"people\" + 0.011*\"honpen\"')\n",
      "(6, '0.026*\"good\" + 0.025*\"go\" + 0.018*\"alone\" + 0.014*\"people\" + 0.011*\"want\" + 0.009*\"know\" + 0.009*\"take\" + 0.009*\"think\" + 0.008*\"whiskey\" + 0.008*\"come\"')\n",
      "(7, '0.015*\"good\" + 0.014*\"go\" + 0.012*\"people\" + 0.011*\"whiskey\" + 0.010*\"think\" + 0.009*\"enjoy\" + 0.009*\"house\" + 0.008*\"want\" + 0.008*\"alone\" + 0.008*\"popcorn\"')\n",
      "(8, '0.049*\"good\" + 0.029*\"think\" + 0.029*\"alone\" + 0.020*\"people\" + 0.015*\"go\" + 0.012*\"want\" + 0.012*\"come\" + 0.011*\"pension\" + 0.011*\"nice\" + 0.008*\"enjoy\"')\n"
     ]
    }
   ],
   "source": [
    "# 토픽결정\n",
    "NUM_TOPICS = 9 # 20개의 토픽, k=20\n",
    "ldamodel = LdaModel(corpus, num_topics = NUM_TOPICS, id2word=dictionary,\n",
    "                   random_state=7)\n",
    "topics = ldamodel.print_topics(num_words=10)\n",
    "for topic in topics:\n",
    "    print(topic)"
   ]
  },
  {
   "cell_type": "code",
   "execution_count": 18,
   "metadata": {},
   "outputs": [],
   "source": [
    "# 토픽 뽑아내기 \n",
    "topics = []\n",
    "for i in range(len(tokenized_data)):\n",
    "    sortresult = sorted(ldamodel[corpus][i], key = lambda x: x[1], reverse=True)\n",
    "    topic = sortresult[0][0]\n",
    "    topics.append(topic)"
   ]
  },
  {
   "cell_type": "code",
   "execution_count": 19,
   "metadata": {},
   "outputs": [],
   "source": [
    "# 토픽 컬럼 만들기 \n",
    "data['Topic'] = topics"
   ]
  },
  {
   "cell_type": "code",
   "execution_count": 20,
   "metadata": {},
   "outputs": [],
   "source": [
    "# 체크함수 \n",
    "def checkprint(data, num):\n",
    "    print('1. Raw :',data['내용'][num])\n",
    "    print('2. Korean Preprocess :',data['s_review'][num])\n",
    "    print('3. Translate :',data['번역'][num])\n",
    "    print('4. After stopword :',data['Drop_stopword'][num])\n",
    "    print('5. After clean :',data['clean_word'][num])\n",
    "    print('6. tokens :', tokenized_data[num])\n",
    "    print('7. Topic :', data['Topic'][num])"
   ]
  },
  {
   "cell_type": "code",
   "execution_count": 59,
   "metadata": {},
   "outputs": [
    {
     "name": "stdout",
     "output_type": "stream",
     "text": [
      "1. Raw : 작년 이맘때쯤부터 계속 고민하다가 1년만에 결정!\n",
      "\n",
      "생각 정리 겸 혼자만의 시간이 필요한 건 맞는데, 자발적 혼자를 굳이 선택하고 싶지 않고 😔\n",
      "혼자인 듯 혼자 아닌 게 마음에 들어서 참여하게 된 거 같아요!\n",
      "\n",
      "그날의 분위기가 다 다르겠지만, 대부분이 쉬고 싶은 마음에 참여하셔서 적정한 텐션으로 팀원끼리 이야기하고 불멍, 물멍할 수 있었던 거 같아요.\n",
      "\n",
      "위스키바에서 호스트님이랑 다른 분들하고 이야기 나눈 것도 좋았고, 불멍 때 🍖 , 힙플라스크에 🥃, 마시멜로우, 쫀드기, 🍠, 블루투스 🔊, 그리고 개냥이들…\n",
      "\n",
      "세심한  준비 덕에 만족도 높아지고,\n",
      "혼자 쓰는 복층 펜션이 잘 땐 너무 무서웠는데… \n",
      "또 편하긴 하고ㅎㅎㅎ\n",
      "\n",
      "무릎에 올라오기까지 하는 개냥이들 쓰담하며 아무 생각없이 있을 수 있어서 너무 좋았습니다!\n",
      "\n",
      "다른 계절에 또 뵐게요!\n",
      "2. Korean Preprocess : 작년 이맘 때쯤부터 계속 고민하다가 1년 만에 결정 생각 정리 겸 혼자만의 시간이 필요한 건 맞는데 자발적 혼자를 굳이 선택하고 싶지 않고 혼자인 듯 혼자 아닌 게 마음에 들어서 참여하게 된 거 같아 요 그날의 분위기가 다 다르겠지만 대부분이 쉬고 싶은 마음에 참여하셔서 적정한 텐션으로 팀원끼리 이야기하고 불멍 물멍할 수 있었던 거 같아 요   위스키바에서 호스트님이랑 다른 분들 하고 이야기 나 눈 것도 좋았고 불멍 때 힙플라스크에 마시멜로우 쫀드기 블루투스 그리고 개냥이들 세심한 준비 덕에 만족도 높아지고 혼자 쓰는 복층 펜션이 잘 땐 너무 무서웠는데 또 편하긴 하고 무릎에 올라오기까지 하는 개냥이들 쓰담하며 아무 생각 없이 있을 수 있어서 너무 좋았습 니다 다른 계절에 또 뵐게요\n",
      "3. Translate : I have been thinking about this time last year, but I need to organize my decision and spend my time alone in a year. I do not want to choose myself alone, but I like to be alone. I like it. The atmosphere of the day is different. I was so scared when I was sleeping in a double-layer pension, which was high in satisfaction thanks to the careful preparation of marshmallow bluetooth and dogfish on the hip flask, and I was so happy to be able to stay without thinking about the dogfish that are comfortable and even on my knees.\n",
      "4. After stopword : thinking last year need organize decision spend alone year want choose alone like alone like atmosphere different scared sleeping doublelayer pension high satisfaction thanks careful preparation marshmallow bluetooth dogfish flask happy stay without thinking dogfish comfortable knees\n",
      "5. After clean : I have been thinking about this time last year but I need to organize my decision and spend my time alone in a year I do not want to choose myself alone but I like to be alone I like it The atmosphere of the day is different I was so scared when I was sleeping in a doublelayer pension which was high in satisfaction thanks to the careful preparation of marshmallow bluetooth and dogfish on the hip flask and I was so happy to be able to stay without thinking about the dogfish that are comfortable and even on my knees\n",
      "6. tokens : ['think', 'last', 'year', 'need', 'organize', 'decision', 'spend', 'alone', 'year', 'want', 'choose', 'alone', 'alone', 'atmosphere', 'different', 'scar', 'sleep', 'doublelayer', 'pension', 'high', 'satisfaction', 'thanks', 'careful', 'preparation', 'dogfish', 'flask', 'happy', 'stay', 'think', 'dogfish', 'comfortable', 'knee']\n",
      "7. Topic : 8\n"
     ]
    }
   ],
   "source": [
    "checkprint(data, 21)"
   ]
  },
  {
   "cell_type": "markdown",
   "metadata": {},
   "source": [
    "- 0 : 심리적\n",
    "- 1 : 개인적만족\n",
    "- 2 : 심리적\n",
    "- 3 : 사회적\n",
    "- 4 : 사회적\n",
    "- 5 : 심리적\n",
    "- 6 : 사회적\n",
    "- 7 : 사회적\n",
    "- 8 : 사회적"
   ]
  },
  {
   "cell_type": "code",
   "execution_count": 58,
   "metadata": {},
   "outputs": [
    {
     "data": {
      "text/plain": [
       "Int64Index([  5,   6,  21,  39,  40,  54,  67,  69,  71,  78,  98, 103, 110,\n",
       "            127, 128, 129, 132, 138, 145, 147, 151, 152, 157, 158, 166, 192,\n",
       "            194, 195, 198, 205, 207, 226, 234, 235, 239, 244, 249, 251, 253,\n",
       "            259, 262, 286, 302, 315, 324, 325, 336, 343, 349, 353, 361, 363,\n",
       "            365, 373, 374],\n",
       "           dtype='int64')"
      ]
     },
     "execution_count": 58,
     "metadata": {},
     "output_type": "execute_result"
    }
   ],
   "source": [
    "data[data['Topic'] == 8].index"
   ]
  },
  {
   "cell_type": "code",
   "execution_count": 61,
   "metadata": {},
   "outputs": [],
   "source": [
    "data['Topic_code'] = data['Topic'].replace([0,1,2,3,4,5,6,7,8],\n",
    "                                          ['심리적','개인적만족','심리적','사회적','사회적','심리적','사회적','사회적','사회적'])"
   ]
  },
  {
   "cell_type": "code",
   "execution_count": 62,
   "metadata": {},
   "outputs": [
    {
     "data": {
      "text/plain": [
       "사회적      217\n",
       "심리적      134\n",
       "개인적만족     24\n",
       "Name: Topic_code, dtype: int64"
      ]
     },
     "execution_count": 62,
     "metadata": {},
     "output_type": "execute_result"
    }
   ],
   "source": [
    "data['Topic_code'].value_counts()"
   ]
  },
  {
   "cell_type": "code",
   "execution_count": 63,
   "metadata": {},
   "outputs": [],
   "source": [
    "data.to_csv('/Users/jin/Documents/pythonstudy/NLP/frip_data_lda/lda13.csv')"
   ]
  },
  {
   "cell_type": "markdown",
   "metadata": {},
   "source": [
    "## 전체 반복진행"
   ]
  },
  {
   "cell_type": "markdown",
   "metadata": {},
   "source": [
    "- 활동별로 반복진행하였습니다. "
   ]
  }
 ],
 "metadata": {
  "kernelspec": {
   "display_name": "Python 3",
   "language": "python",
   "name": "python3"
  },
  "language_info": {
   "codemirror_mode": {
    "name": "ipython",
    "version": 3
   },
   "file_extension": ".py",
   "mimetype": "text/x-python",
   "name": "python",
   "nbconvert_exporter": "python",
   "pygments_lexer": "ipython3",
   "version": "3.8.3"
  }
 },
 "nbformat": 4,
 "nbformat_minor": 4
}
