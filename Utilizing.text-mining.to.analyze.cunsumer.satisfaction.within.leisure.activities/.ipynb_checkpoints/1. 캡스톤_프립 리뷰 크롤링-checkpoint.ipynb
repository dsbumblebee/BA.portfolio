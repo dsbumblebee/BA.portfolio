{
 "cells": [
  {
   "cell_type": "markdown",
   "metadata": {},
   "source": [
    "# 프립 리뷰 데이터 크롤링"
   ]
  },
  {
   "cell_type": "markdown",
   "metadata": {},
   "source": [
    "## Contents"
   ]
  },
  {
   "cell_type": "markdown",
   "metadata": {},
   "source": [
    "- 1. 크롬드라이버 열기 및 웹페이지 접근\n",
    "- 2. 개별 동작 만들기\n",
    "    - 2-1. 별점 가져오기\n",
    "    - 2-2. 날짜 가져오기\n",
    "    - 2-3. 본문 가져오기\n",
    "    - 2-4. 데이터 수집 함수 생성\n",
    "- 3. 전체 동작 반복문 "
   ]
  },
  {
   "cell_type": "markdown",
   "metadata": {},
   "source": [
    "## 1. 크롬드라이버 열기 및 웹페이지 접근"
   ]
  },
  {
   "cell_type": "code",
   "execution_count": 1,
   "metadata": {},
   "outputs": [],
   "source": [
    "# 라이브러리\n",
    "from selenium import webdriver\n",
    "from bs4 import BeautifulSoup\n",
    "import time\n",
    "from tqdm import tqdm_notebook\n",
    "import pandas as pd"
   ]
  },
  {
   "cell_type": "code",
   "execution_count": 2,
   "metadata": {},
   "outputs": [],
   "source": [
    "# 드라이버 열기 , 크롬 버전에 따라 드라이버 계속 변경됨 \n",
    "# 보안 환경설정 이슈 발생할 수 있음 \n",
    "browser = webdriver.Chrome('./chromedriver4')"
   ]
  },
  {
   "cell_type": "code",
   "execution_count": 36,
   "metadata": {},
   "outputs": [],
   "source": [
    "# 드라이버 닫기\n",
    "browser.quit()"
   ]
  },
  {
   "cell_type": "code",
   "execution_count": 3,
   "metadata": {},
   "outputs": [
    {
     "name": "stdout",
     "output_type": "stream",
     "text": [
      "https://frip.co.kr/products/101770/reviews?page=1\n"
     ]
    }
   ],
   "source": [
    "# url 규칙 , 변경될 수 있음 \n",
    "page = 1\n",
    "word = '101770'  # 상품번호\n",
    "url = f'https://frip.co.kr/products/{word}/reviews?page={page}'\n",
    "print(url)"
   ]
  },
  {
   "cell_type": "code",
   "execution_count": 2,
   "metadata": {},
   "outputs": [],
   "source": [
    "# url 함수화 \n",
    "def get_search_page_url(word, page):\n",
    "    url = f'https://frip.co.kr/products/{word}/reviews?page={page}'\n",
    "    return url"
   ]
  },
  {
   "cell_type": "code",
   "execution_count": 4,
   "metadata": {},
   "outputs": [],
   "source": [
    "# 검색 \n",
    "# url을 넣어서 검색한다. \n",
    "browser.get(url)"
   ]
  },
  {
   "cell_type": "code",
   "execution_count": 68,
   "metadata": {},
   "outputs": [],
   "source": [
    "# html 가져오기 \n",
    "\n",
    "html = browser.page_source\n",
    "soup = BeautifulSoup(html, 'html.parser')"
   ]
  },
  {
   "cell_type": "code",
   "execution_count": 24,
   "metadata": {},
   "outputs": [],
   "source": [
    "# 리뷰들 가져오기 \n",
    "reviews = soup.select('div.CardReview__Wrapper-f2ssd2-0')"
   ]
  },
  {
   "cell_type": "code",
   "execution_count": 25,
   "metadata": {
    "scrolled": true
   },
   "outputs": [
    {
     "data": {
      "text/plain": [
       "8"
      ]
     },
     "execution_count": 25,
     "metadata": {},
     "output_type": "execute_result"
    }
   ],
   "source": [
    "len(reviews)"
   ]
  },
  {
   "cell_type": "markdown",
   "metadata": {},
   "source": [
    "## 2. 개별 동작 만들기"
   ]
  },
  {
   "cell_type": "markdown",
   "metadata": {},
   "source": [
    "## 2-1. 별점 가져오기"
   ]
  },
  {
   "cell_type": "code",
   "execution_count": 24,
   "metadata": {},
   "outputs": [],
   "source": [
    "# 리뷰에서 첫번째 리뷰에 이미지 테그들 \n",
    "# reviews[0].select('img')"
   ]
  },
  {
   "cell_type": "code",
   "execution_count": 65,
   "metadata": {},
   "outputs": [
    {
     "data": {
      "text/plain": [
       "3.5"
      ]
     },
     "execution_count": 65,
     "metadata": {},
     "output_type": "execute_result"
    }
   ],
   "source": [
    "# 별점\n",
    "sum([1 if j==846 else 0.5 if j==1741 else 0 for j in [len(str(i)) for i in reviews[0].select('img')])"
   ]
  },
  {
   "cell_type": "code",
   "execution_count": 33,
   "metadata": {},
   "outputs": [
    {
     "name": "stdout",
     "output_type": "stream",
     "text": [
      "[242, 245, 846, 846, 846, 1688, 1688, 679, 205, 212]\n"
     ]
    },
    {
     "data": {
      "text/plain": [
       "3"
      ]
     },
     "execution_count": 33,
     "metadata": {},
     "output_type": "execute_result"
    }
   ],
   "source": [
    "# 별점 가독성 \n",
    "\n",
    "# 첫번째 리뷰의 이미지 테그에서 글자의수 중 별점에 해당하는 것 글자수로 전환한 리스트\n",
    "image_string_list = [len(str(i)) for i in reviews[7].select('img')]\n",
    "print(image_string_list)\n",
    "# 이미지 글자수로 판단 , 846 별, 1741 반별, 1688 별없음\n",
    "star_list = [1 if j==846 else 0.5 if j==1741 else 0 for j in image_string_list]\n",
    "star = sum(star_list)\n",
    "star"
   ]
  },
  {
   "cell_type": "code",
   "execution_count": 86,
   "metadata": {},
   "outputs": [
    {
     "data": {
      "text/plain": [
       "[409, 846, 846, 846, 846, 1688, 679]"
      ]
     },
     "execution_count": 86,
     "metadata": {},
     "output_type": "execute_result"
    }
   ],
   "source": [
    "# [len(str(i)) for i in reviews[0].select('img')]"
   ]
  },
  {
   "cell_type": "markdown",
   "metadata": {},
   "source": [
    "## 2-2. 날짜 가져오기"
   ]
  },
  {
   "cell_type": "code",
   "execution_count": 29,
   "metadata": {},
   "outputs": [
    {
     "data": {
      "text/plain": [
       "'채송아2016년 9월 16일 11:16 작성'"
      ]
     },
     "execution_count": 29,
     "metadata": {},
     "output_type": "execute_result"
    }
   ],
   "source": [
    "# 해더 \n",
    "reviews[0].select('div.CardReview__Header-f2ssd2-1')[0].text.strip()"
   ]
  },
  {
   "cell_type": "markdown",
   "metadata": {},
   "source": [
    "## 2-3. 본문 가져오기"
   ]
  },
  {
   "cell_type": "code",
   "execution_count": 30,
   "metadata": {},
   "outputs": [
    {
     "data": {
      "text/plain": [
       "'평소에 역사에 많은 지식이 없음에도 불구하고 가이드분께서 너무 자세히 이해하기 쉽게 설명해 주셔서 흥미롭고 값진 시간이였어요~ 감사합니다 ㅎㅎ'"
      ]
     },
     "execution_count": 30,
     "metadata": {},
     "output_type": "execute_result"
    }
   ],
   "source": [
    "# 본문\n",
    "reviews[0].select('div.CardReview__Body-f2ssd2-9')[0].text.strip()"
   ]
  },
  {
   "cell_type": "markdown",
   "metadata": {},
   "source": [
    "## 2-4. 데이터 수집 함수 생성"
   ]
  },
  {
   "cell_type": "code",
   "execution_count": 3,
   "metadata": {},
   "outputs": [],
   "source": [
    "def get_data(reviews):\n",
    "    data = []\n",
    "    for review in reviews:\n",
    "        # date\n",
    "        try : \n",
    "            date = review.select('div.CardReview__Header-f2ssd2-1')[0].text.strip()\n",
    "        except :\n",
    "            date = ''\n",
    "        # contents\n",
    "        try : \n",
    "            content = review.select('div.CardReview__Body-f2ssd2-9')[0].text.strip()\n",
    "        except : \n",
    "            content = ''\n",
    "        # star point\n",
    "        try : \n",
    "            # 첫번째 리뷰의 이미지 테그에서 글자의수 중 별점에 해당하는 것 글자수로 전환한 리스트\n",
    "            image_string_list = [len(str(i)) for i in review.select('img')]\n",
    "            # print(image_string_list)\n",
    "            # 이미지 글자수로 판단 , 846 별, 1741 반별, 1688 별없음\n",
    "            star_list = [1 if j==846 else 0.5 if j==1741 else 0 for j in image_string_list]\n",
    "            star = sum(star_list)\n",
    "        except : \n",
    "            star = ''\n",
    "        data.append([date, content, star])\n",
    "    return data"
   ]
  },
  {
   "cell_type": "code",
   "execution_count": 35,
   "metadata": {},
   "outputs": [
    {
     "data": {
      "text/plain": [
       "[['문보현2020년 9월 12일 21:43 작성',\n",
       "  '여자친구랑 너무 즐거운 데이트였습니다. 조금 아쉬운점은 환기가 잘 되지않아 버터 냄새가 너무 심한거 외에는 전체적으로 다 좋았습니다',\n",
       "  4.5],\n",
       " ['단추2020년 3월 2일 15:13 작성', '만드는것도 쉽고 재밌어요! ㅎㅎ\\n너무 맛있네요 ㅠ 다먹었어요..', 4.5],\n",
       " ['ㅇㅅㅇ2019년 7월 23일 22:52 작성',\n",
       "  '조금 늦게 올리지만 너무 좋았어요! 선생님께서도 너무 친절하셨고 설명도 자세하고 쉽게 해주셨어요!\\n다만 한가지 단점이라면 찾아가는데 조금 힘들었네요...\\n그것 외에는 너무너무 좋았어요!',\n",
       "  4.5],\n",
       " ['이정봉2019년 7월 20일 16:06 작성',\n",
       "  '선생님의 빠르고 귀에 쏙쏙들어오는 강좌 수업에 금방 익힐수 있었습니다.더 다양한 디저트 수업 생기길 기원합니다',\n",
       "  4.5],\n",
       " ['배소미2021년 1월 1일 22:18 작성', '재밌게 만들었습니다 ㅎㅎ', 4],\n",
       " ['배소미2021년 1월 1일 22:18 작성', '친절히 상세히 알려주셔서 좋았어요!', 4],\n",
       " ['김원준2020년 8월 13일 18:52 작성',\n",
       "  '평소 디저트에 관심이 많아서 여기저기서 배우고 있는데\\n휘낭시에 원데이 클래스 정말 재미있었어요',\n",
       "  4],\n",
       " ['윤의정2019년 8월 8일 21:45 작성',\n",
       "  '좋은 경험이었습니다. 근데 저는 베이킹을 하면서 각 재료들이 어떤 역할을 하는지, 이 재료가 빠지면 결과가 어떻게 달라지는지 등이 궁금하고 질문하면서 수업하고 싶었는데 선생님이 스피드 있게 해야하는 것만 딱딱 진행하는 스타일이라 이런점은 조금 아쉬웠네요',\n",
       "  3]]"
      ]
     },
     "execution_count": 35,
     "metadata": {},
     "output_type": "execute_result"
    }
   ],
   "source": [
    "# 테스트 \n",
    "get_data(reviews)"
   ]
  },
  {
   "cell_type": "markdown",
   "metadata": {},
   "source": [
    "## 3 전체 동작 반복문"
   ]
  },
  {
   "cell_type": "code",
   "execution_count": 32,
   "metadata": {},
   "outputs": [],
   "source": [
    "# 드라이버 열기 , 크롬 버전에 따라 드라이버 계속 변경됨 \n",
    "# 보안 환경설정 이슈 발생할 수 있음 \n",
    "browser = webdriver.Chrome('./chromedriver4')\n",
    "\n",
    "\n",
    "# 대기 \n",
    "browser.implicitly_wait(3)\n",
    "\n",
    "\n",
    "# 키워드 및 페이지 수 설정 \n",
    "word = '110484'    # 상품번호\n",
    "total_page = 24\n",
    "# price = 50000\n",
    "# 제목 [반포] 휘낭시에 3종 만들기 #18개완성\n",
    "# 카테고리 : 베이킹\n",
    "# 지역 : 강남/서초\n",
    "\n",
    "# 데이터 수집 \n",
    "review_data_total = []\n",
    "\n",
    "\n",
    "for page in range(1, total_page+1):\n",
    "    url = get_search_page_url(word, page)\n",
    "    browser.get(url)\n",
    "    \n",
    "    time.sleep(5)\n",
    "    \n",
    "    html = browser.page_source\n",
    "    soup = BeautifulSoup(html, 'html.parser')\n",
    "    \n",
    "    # 리뷰 가져오기 \n",
    "    reviews = soup.select('div.CardReview__Wrapper-f2ssd2-0')\n",
    "    # 데이터 추출\n",
    "    review_data = get_data(reviews)\n",
    "    \n",
    "    review_data_total = review_data_total + review_data\n",
    "    "
   ]
  },
  {
   "cell_type": "code",
   "execution_count": null,
   "metadata": {},
   "outputs": [],
   "source": [
    "# 드라이버 닫기\n",
    "browser.quit()"
   ]
  },
  {
   "cell_type": "code",
   "execution_count": 33,
   "metadata": {},
   "outputs": [],
   "source": [
    "result = pd.DataFrame(review_data_total,\n",
    "                     columns=['날짜','내용','별점'])"
   ]
  },
  {
   "cell_type": "code",
   "execution_count": 34,
   "metadata": {},
   "outputs": [
    {
     "data": {
      "text/plain": [
       "array([5. , 4.5, 4. , 3.5])"
      ]
     },
     "execution_count": 34,
     "metadata": {},
     "output_type": "execute_result"
    }
   ],
   "source": [
    "result.별점.unique()"
   ]
  },
  {
   "cell_type": "code",
   "execution_count": 35,
   "metadata": {},
   "outputs": [],
   "source": [
    "result['제목'] = '[서울] 덕수궁 야간 투어 #5대 궁궐투어 #중구'\n",
    "result['카테고리'] = '투어'\n",
    "result['지역'] = '종로/중구'\n",
    "result['가격'] = 25000"
   ]
  },
  {
   "cell_type": "code",
   "execution_count": 36,
   "metadata": {},
   "outputs": [
    {
     "data": {
      "text/html": [
       "<div>\n",
       "<style scoped>\n",
       "    .dataframe tbody tr th:only-of-type {\n",
       "        vertical-align: middle;\n",
       "    }\n",
       "\n",
       "    .dataframe tbody tr th {\n",
       "        vertical-align: top;\n",
       "    }\n",
       "\n",
       "    .dataframe thead th {\n",
       "        text-align: right;\n",
       "    }\n",
       "</style>\n",
       "<table border=\"1\" class=\"dataframe\">\n",
       "  <thead>\n",
       "    <tr style=\"text-align: right;\">\n",
       "      <th></th>\n",
       "      <th>날짜</th>\n",
       "      <th>내용</th>\n",
       "      <th>별점</th>\n",
       "      <th>제목</th>\n",
       "      <th>카테고리</th>\n",
       "      <th>지역</th>\n",
       "      <th>가격</th>\n",
       "    </tr>\n",
       "  </thead>\n",
       "  <tbody>\n",
       "    <tr>\n",
       "      <th>232</th>\n",
       "      <td>김지은2018년 7월 22일 23:29 작성</td>\n",
       "      <td>인기 있는 프립은 이유가 있는 것 같아요! \\n밤에 찾는 궁은 너무 낭만적이고 성쌤...</td>\n",
       "      <td>4.0</td>\n",
       "      <td>[서울] 덕수궁 야간 투어 #5대 궁궐투어 #중구</td>\n",
       "      <td>투어</td>\n",
       "      <td>종로/중구</td>\n",
       "      <td>25000</td>\n",
       "    </tr>\n",
       "    <tr>\n",
       "      <th>233</th>\n",
       "      <td>조현자2017년 7월 19일 13:18 작성</td>\n",
       "      <td>처음 해본 프립 활동인데~ 좋아요~\\n분위기 좋게 비도 부슬부슬 오는게 야경 분위기...</td>\n",
       "      <td>4.0</td>\n",
       "      <td>[서울] 덕수궁 야간 투어 #5대 궁궐투어 #중구</td>\n",
       "      <td>투어</td>\n",
       "      <td>종로/중구</td>\n",
       "      <td>25000</td>\n",
       "    </tr>\n",
       "    <tr>\n",
       "      <th>234</th>\n",
       "      <td>이수연2016년 11월 12일 17:36 작성</td>\n",
       "      <td>날씨도 좋고 예쁜 가을하늘 아래서 조선시대 가장 오랫동안 법궁 역할을 한 창덕궁에 ...</td>\n",
       "      <td>4.0</td>\n",
       "      <td>[서울] 덕수궁 야간 투어 #5대 궁궐투어 #중구</td>\n",
       "      <td>투어</td>\n",
       "      <td>종로/중구</td>\n",
       "      <td>25000</td>\n",
       "    </tr>\n",
       "    <tr>\n",
       "      <th>235</th>\n",
       "      <td>이지훈2016년 8월 3일 10:21 작성</td>\n",
       "      <td>평소 역사에 관심이 많았는데 정말 좋은 경험 이었습니다 ㅎㅎㅎ</td>\n",
       "      <td>4.0</td>\n",
       "      <td>[서울] 덕수궁 야간 투어 #5대 궁궐투어 #중구</td>\n",
       "      <td>투어</td>\n",
       "      <td>종로/중구</td>\n",
       "      <td>25000</td>\n",
       "    </tr>\n",
       "    <tr>\n",
       "      <th>236</th>\n",
       "      <td>이진이2018년 9월 17일 8:04 작성</td>\n",
       "      <td>제가 중간에 먹느라 빠져서 끝까지 못한건 아쉽네요 야간에 보는 궁의 느낌이 새로웠습니다</td>\n",
       "      <td>3.5</td>\n",
       "      <td>[서울] 덕수궁 야간 투어 #5대 궁궐투어 #중구</td>\n",
       "      <td>투어</td>\n",
       "      <td>종로/중구</td>\n",
       "      <td>25000</td>\n",
       "    </tr>\n",
       "  </tbody>\n",
       "</table>\n",
       "</div>"
      ],
      "text/plain": [
       "                            날짜  \\\n",
       "232   김지은2018년 7월 22일 23:29 작성   \n",
       "233   조현자2017년 7월 19일 13:18 작성   \n",
       "234  이수연2016년 11월 12일 17:36 작성   \n",
       "235    이지훈2016년 8월 3일 10:21 작성   \n",
       "236    이진이2018년 9월 17일 8:04 작성   \n",
       "\n",
       "                                                    내용   별점  \\\n",
       "232  인기 있는 프립은 이유가 있는 것 같아요! \\n밤에 찾는 궁은 너무 낭만적이고 성쌤...  4.0   \n",
       "233  처음 해본 프립 활동인데~ 좋아요~\\n분위기 좋게 비도 부슬부슬 오는게 야경 분위기...  4.0   \n",
       "234  날씨도 좋고 예쁜 가을하늘 아래서 조선시대 가장 오랫동안 법궁 역할을 한 창덕궁에 ...  4.0   \n",
       "235                 평소 역사에 관심이 많았는데 정말 좋은 경험 이었습니다 ㅎㅎㅎ  4.0   \n",
       "236   제가 중간에 먹느라 빠져서 끝까지 못한건 아쉽네요 야간에 보는 궁의 느낌이 새로웠습니다  3.5   \n",
       "\n",
       "                              제목 카테고리     지역     가격  \n",
       "232  [서울] 덕수궁 야간 투어 #5대 궁궐투어 #중구   투어  종로/중구  25000  \n",
       "233  [서울] 덕수궁 야간 투어 #5대 궁궐투어 #중구   투어  종로/중구  25000  \n",
       "234  [서울] 덕수궁 야간 투어 #5대 궁궐투어 #중구   투어  종로/중구  25000  \n",
       "235  [서울] 덕수궁 야간 투어 #5대 궁궐투어 #중구   투어  종로/중구  25000  \n",
       "236  [서울] 덕수궁 야간 투어 #5대 궁궐투어 #중구   투어  종로/중구  25000  "
      ]
     },
     "execution_count": 36,
     "metadata": {},
     "output_type": "execute_result"
    }
   ],
   "source": [
    "result.tail()"
   ]
  },
  {
   "cell_type": "code",
   "execution_count": 37,
   "metadata": {},
   "outputs": [],
   "source": [
    "result.to_csv('/Users/jin/Documents/pythonstudy/NLP/frip_data/frip_tour2.csv')"
   ]
  },
  {
   "cell_type": "markdown",
   "metadata": {},
   "source": [
    "## 결과 \n",
    "\n",
    "- 상품번호에 규칙성이 없어서, 각각 수작업으로 한 활동씩 크롤링하여, csv파일 만들어서 저장했습니다."
   ]
  }
 ],
 "metadata": {
  "kernelspec": {
   "display_name": "Python 3",
   "language": "python",
   "name": "python3"
  },
  "language_info": {
   "codemirror_mode": {
    "name": "ipython",
    "version": 3
   },
   "file_extension": ".py",
   "mimetype": "text/x-python",
   "name": "python",
   "nbconvert_exporter": "python",
   "pygments_lexer": "ipython3",
   "version": "3.8.3"
  }
 },
 "nbformat": 4,
 "nbformat_minor": 4
}
