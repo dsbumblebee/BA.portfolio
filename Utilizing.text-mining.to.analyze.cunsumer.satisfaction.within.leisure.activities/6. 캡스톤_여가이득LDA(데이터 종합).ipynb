{
 "cells": [
  {
   "cell_type": "code",
   "execution_count": 1,
   "metadata": {},
   "outputs": [],
   "source": [
    "import pandas as pd"
   ]
  },
  {
   "cell_type": "markdown",
   "metadata": {},
   "source": [
    "# 데이터 합치기\n",
    "\n",
    "- 50개 이상의 리뷰인 53개의 활동 , 10740개의 리뷰 "
   ]
  },
  {
   "cell_type": "code",
   "execution_count": 3,
   "metadata": {},
   "outputs": [],
   "source": [
    "# 로케이션 만드는 함수\n",
    "def make_location(num):\n",
    "    loc = '/Users/jin/Documents/pythonstudy/NLP/frip_data_lda/lda'\n",
    "    end = '.csv'\n",
    "    location = loc + str(num) + end\n",
    "    return location"
   ]
  },
  {
   "cell_type": "code",
   "execution_count": 4,
   "metadata": {},
   "outputs": [
    {
     "data": {
      "text/plain": [
       "'/Users/jin/Documents/pythonstudy/NLP/frip_data_lda/lda1.csv'"
      ]
     },
     "execution_count": 4,
     "metadata": {},
     "output_type": "execute_result"
    }
   ],
   "source": [
    "# 함수 테스트\n",
    "make_location(1)"
   ]
  },
  {
   "cell_type": "code",
   "execution_count": 10,
   "metadata": {},
   "outputs": [],
   "source": [
    "# 데이터프레임 이어붙이기 \n",
    "data = pd.DataFrame()\n",
    "\n",
    "for i in range(1,54):\n",
    "    add = pd.read_csv(make_location(i),index_col=0)\n",
    "    data = data.append(add)"
   ]
  },
  {
   "cell_type": "code",
   "execution_count": 14,
   "metadata": {},
   "outputs": [],
   "source": [
    "data.reset_index(drop=True, inplace=True)"
   ]
  },
  {
   "cell_type": "code",
   "execution_count": 17,
   "metadata": {},
   "outputs": [],
   "source": [
    "data.to_csv('/Users/jin/Documents/pythonstudy/NLP/frip_data_lda/lda_all.csv')"
   ]
  },
  {
   "cell_type": "code",
   "execution_count": 19,
   "metadata": {},
   "outputs": [
    {
     "data": {
      "text/plain": [
       "자기계발     4884\n",
       "개인적만족    3300\n",
       "심리적      1481\n",
       "사회적       590\n",
       "신체적       485\n",
       "Name: Topic_code, dtype: int64"
      ]
     },
     "execution_count": 19,
     "metadata": {},
     "output_type": "execute_result"
    }
   ],
   "source": [
    "data.Topic_code.value_counts()"
   ]
  }
 ],
 "metadata": {
  "kernelspec": {
   "display_name": "Python 3",
   "language": "python",
   "name": "python3"
  },
  "language_info": {
   "codemirror_mode": {
    "name": "ipython",
    "version": 3
   },
   "file_extension": ".py",
   "mimetype": "text/x-python",
   "name": "python",
   "nbconvert_exporter": "python",
   "pygments_lexer": "ipython3",
   "version": "3.7.7"
  }
 },
 "nbformat": 4,
 "nbformat_minor": 4
}
