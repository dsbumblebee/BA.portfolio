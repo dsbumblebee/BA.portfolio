{
 "cells": [
  {
   "cell_type": "markdown",
   "metadata": {},
   "source": [
    "# 데이터 전처리"
   ]
  },
  {
   "cell_type": "markdown",
   "metadata": {},
   "source": [
    "## Contents"
   ]
  },
  {
   "cell_type": "markdown",
   "metadata": {},
   "source": [
    "- 1. 한글 전처리\n",
    "    - 1-1. 구두점, 숫자, 한글 자모음 제거, 줄바꿈 제거, 공백 제거\n",
    "    - 1-2. 띄어쓰기 전처리 \n",
    "- 2. 번역"
   ]
  },
  {
   "cell_type": "markdown",
   "metadata": {},
   "source": [
    "## 1. 한글 전처리"
   ]
  },
  {
   "cell_type": "code",
   "execution_count": 1,
   "metadata": {},
   "outputs": [],
   "source": [
    "import pandas as pd"
   ]
  },
  {
   "cell_type": "code",
   "execution_count": 2,
   "metadata": {},
   "outputs": [],
   "source": [
    "data = pd.read_csv('/Users/jin/Documents/pythonstudy/NLP/frip_data/frip_data_all.csv', index_col=0)"
   ]
  },
  {
   "cell_type": "code",
   "execution_count": 56,
   "metadata": {},
   "outputs": [
    {
     "data": {
      "text/plain": [
       "날짜                dana2020년 5월 2일 16:03 작성\n",
       "내용                                   재밌었어요\n",
       "별점                                       5\n",
       "제목          [프립 MD PICK!] 술술 놀면서 수제 맥주 만들기\n",
       "카테고리                                    쿠킹\n",
       "지역                                   송파/강동\n",
       "가격                                   50000\n",
       "review                               재밌었어요\n",
       "s_review                             재밌었어요\n",
       "Name: 1114, dtype: object"
      ]
     },
     "execution_count": 56,
     "metadata": {},
     "output_type": "execute_result"
    }
   ],
   "source": [
    "# 353 538 1096 1109 1114\n",
    "data.iloc[1114]"
   ]
  },
  {
   "cell_type": "code",
   "execution_count": 3,
   "metadata": {},
   "outputs": [],
   "source": [
    "# 다양한 제거방식 \n",
    "def cleansing(text):\n",
    "    pattern = '([^\\w\\s])' # 구두점 제거\n",
    "    text = re.sub(pattern = pattern, repl=' ', string = text) \n",
    "#    pattern =  '([0-9]+)' # 숫자 제거\n",
    "#    text = re.sub(pattern = pattern, repl=' ', string = text)\n",
    "    pattern = '([ㄱ-ㅎㅏ-ㅣ]+)' # 한글 자모음 제거 \n",
    "    text = re.sub(pattern = pattern, repl=' ', string = text)\n",
    "    # 줄바꿈 제거 \\n\n",
    "    text = text.replace('\\n', ' ')\n",
    "    pattern = '([\\s+])'  # 공백2개 1개로\n",
    "    text = re.sub(pattern = pattern, repl=' ', string = text)\n",
    "    return text"
   ]
  },
  {
   "cell_type": "code",
   "execution_count": 123,
   "metadata": {},
   "outputs": [],
   "source": [
    "data['review'] = data['내용'].apply(lambda x : cleansing(x))"
   ]
  },
  {
   "cell_type": "code",
   "execution_count": 124,
   "metadata": {},
   "outputs": [
    {
     "data": {
      "text/plain": [
       "'2시간동안 알차게 수업 잘 들었어요! \\n결과물도 너무 만족스러워요~ ㅎㅎㅎ \\n포장지도 예쁜걸루 해주셔서 너무 좋았어요👍🏼👍🏼\\n\\n감사합니다^^'"
      ]
     },
     "execution_count": 124,
     "metadata": {},
     "output_type": "execute_result"
    }
   ],
   "source": [
    "data['내용'][0]"
   ]
  },
  {
   "cell_type": "code",
   "execution_count": 125,
   "metadata": {},
   "outputs": [
    {
     "data": {
      "text/plain": [
       "'2시간동안 알차게 수업 잘 들었어요   결과물도 너무 만족스러워요     포장지도 예쁜걸루 해주셔서 너무 좋았어요      감사합니다  '"
      ]
     },
     "execution_count": 125,
     "metadata": {},
     "output_type": "execute_result"
    }
   ],
   "source": [
    "data['review'][0]"
   ]
  },
  {
   "cell_type": "markdown",
   "metadata": {},
   "source": [
    "## 1-2. 띄어쓰기 전처리"
   ]
  },
  {
   "cell_type": "code",
   "execution_count": 126,
   "metadata": {},
   "outputs": [],
   "source": [
    "from pykospacing import Spacing"
   ]
  },
  {
   "cell_type": "code",
   "execution_count": 127,
   "metadata": {},
   "outputs": [],
   "source": [
    "spacing = Spacing()"
   ]
  },
  {
   "cell_type": "code",
   "execution_count": 128,
   "metadata": {},
   "outputs": [
    {
     "name": "stdout",
     "output_type": "stream",
     "text": [
      "712.3392651081085\n"
     ]
    }
   ],
   "source": [
    "start = time.time()\n",
    "data['s_review'] = data['review'].apply(lambda x: spacing(x))\n",
    "print(time.time()-start)"
   ]
  },
  {
   "cell_type": "code",
   "execution_count": 130,
   "metadata": {},
   "outputs": [
    {
     "data": {
      "text/plain": [
       "'2시간 동안 알차게 수업 잘 들었어요 결과물도 너무 만족스러워요 포장지도 예쁜 걸루 해주셔서 너무 좋았어요 감사합니다'"
      ]
     },
     "execution_count": 130,
     "metadata": {},
     "output_type": "execute_result"
    }
   ],
   "source": [
    "data['s_review'][0]"
   ]
  },
  {
   "cell_type": "code",
   "execution_count": 171,
   "metadata": {},
   "outputs": [
    {
     "data": {
      "text/html": [
       "<div>\n",
       "<style scoped>\n",
       "    .dataframe tbody tr th:only-of-type {\n",
       "        vertical-align: middle;\n",
       "    }\n",
       "\n",
       "    .dataframe tbody tr th {\n",
       "        vertical-align: top;\n",
       "    }\n",
       "\n",
       "    .dataframe thead th {\n",
       "        text-align: right;\n",
       "    }\n",
       "</style>\n",
       "<table border=\"1\" class=\"dataframe\">\n",
       "  <thead>\n",
       "    <tr style=\"text-align: right;\">\n",
       "      <th></th>\n",
       "      <th>날짜</th>\n",
       "      <th>내용</th>\n",
       "      <th>별점</th>\n",
       "      <th>제목</th>\n",
       "      <th>카테고리</th>\n",
       "      <th>지역</th>\n",
       "      <th>가격</th>\n",
       "      <th>review</th>\n",
       "      <th>s_review</th>\n",
       "    </tr>\n",
       "  </thead>\n",
       "  <tbody>\n",
       "    <tr>\n",
       "      <th>0</th>\n",
       "      <td>bella2022년 3월 9일 17:10 작성</td>\n",
       "      <td>2시간동안 알차게 수업 잘 들었어요! \\n결과물도 너무 만족스러워요~ ㅎㅎㅎ \\n포...</td>\n",
       "      <td>5.0</td>\n",
       "      <td>[반포] 휘낭시에 3종 만들기 #18개완성</td>\n",
       "      <td>베이킹</td>\n",
       "      <td>강남/서초</td>\n",
       "      <td>50000</td>\n",
       "      <td>2시간동안 알차게 수업 잘 들었어요   결과물도 너무 만족스러워요     포장지도 ...</td>\n",
       "      <td>2시간 동안 알차게 수업 잘 들었어요 결과물도 너무 만족스러워요 포장지도 예쁜 걸루...</td>\n",
       "    </tr>\n",
       "    <tr>\n",
       "      <th>1</th>\n",
       "      <td>HS2022년 3월 2일 9:51 작성</td>\n",
       "      <td>처음 만들어봤는데 옆에서 적당히 도와주시고 재밌었습니다. 그리고 재밋게 만들고 맛있...</td>\n",
       "      <td>5.0</td>\n",
       "      <td>[반포] 휘낭시에 3종 만들기 #18개완성</td>\n",
       "      <td>베이킹</td>\n",
       "      <td>강남/서초</td>\n",
       "      <td>50000</td>\n",
       "      <td>처음 만들어봤는데 옆에서 적당히 도와주시고 재밌었습니다  그리고 재밋게 만들고 맛있...</td>\n",
       "      <td>처음 만들어 봤는데 옆에서 적당히 도와 주시고 재밌었습니다 그리고 재밋게 만들고 맛...</td>\n",
       "    </tr>\n",
       "    <tr>\n",
       "      <th>2</th>\n",
       "      <td>백장미2022년 2월 22일 19:41 작성</td>\n",
       "      <td>설명도 잘해주시고 재밌는 수업이였습니다!\\n포장까지 꼼꼼히 챙겨주셔서 좋았어요</td>\n",
       "      <td>5.0</td>\n",
       "      <td>[반포] 휘낭시에 3종 만들기 #18개완성</td>\n",
       "      <td>베이킹</td>\n",
       "      <td>강남/서초</td>\n",
       "      <td>50000</td>\n",
       "      <td>설명도 잘해주시고 재밌는 수업이였습니다  포장까지 꼼꼼히 챙겨주셔서 좋았어요</td>\n",
       "      <td>설명도 잘해주시고 재밌는 수업이였습니다 포장까지 꼼꼼히 챙겨주셔서 좋았어요</td>\n",
       "    </tr>\n",
       "    <tr>\n",
       "      <th>3</th>\n",
       "      <td>황인정2022년 2월 20일 21:38 작성</td>\n",
       "      <td>고르곤졸라 휘낭시에, 티라미수 휘낭시에는 아이디어가 좋은 것 같습니다.\\n티라미수 ...</td>\n",
       "      <td>5.0</td>\n",
       "      <td>[반포] 휘낭시에 3종 만들기 #18개완성</td>\n",
       "      <td>베이킹</td>\n",
       "      <td>강남/서초</td>\n",
       "      <td>50000</td>\n",
       "      <td>고르곤졸라 휘낭시에  티라미수 휘낭시에는 아이디어가 좋은 것 같습니다  티라미수 속...</td>\n",
       "      <td>고르곤졸라 휘낭시에 티라미수 휘낭시에는 아이디어가 좋은 것 같습니다 티라미수 속에 ...</td>\n",
       "    </tr>\n",
       "    <tr>\n",
       "      <th>4</th>\n",
       "      <td>민지2022년 2월 20일 3:11 작성</td>\n",
       "      <td>너무 듣고 싶었던 클래스였는데 기대한 만큼 너무 만족스러웠어요. 설명도 초심자한테 ...</td>\n",
       "      <td>5.0</td>\n",
       "      <td>[반포] 휘낭시에 3종 만들기 #18개완성</td>\n",
       "      <td>베이킹</td>\n",
       "      <td>강남/서초</td>\n",
       "      <td>50000</td>\n",
       "      <td>너무 듣고 싶었던 클래스였는데 기대한 만큼 너무 만족스러웠어요  설명도 초심자한테 ...</td>\n",
       "      <td>너무 듣고 싶었던 클래스였는데 기 대한 만큼 너무 만족스러웠어요 설명도 초심자한테 ...</td>\n",
       "    </tr>\n",
       "  </tbody>\n",
       "</table>\n",
       "</div>"
      ],
      "text/plain": [
       "                          날짜  \\\n",
       "0  bella2022년 3월 9일 17:10 작성   \n",
       "1      HS2022년 3월 2일 9:51 작성   \n",
       "2   백장미2022년 2월 22일 19:41 작성   \n",
       "3   황인정2022년 2월 20일 21:38 작성   \n",
       "4     민지2022년 2월 20일 3:11 작성   \n",
       "\n",
       "                                                  내용   별점  \\\n",
       "0  2시간동안 알차게 수업 잘 들었어요! \\n결과물도 너무 만족스러워요~ ㅎㅎㅎ \\n포...  5.0   \n",
       "1  처음 만들어봤는데 옆에서 적당히 도와주시고 재밌었습니다. 그리고 재밋게 만들고 맛있...  5.0   \n",
       "2        설명도 잘해주시고 재밌는 수업이였습니다!\\n포장까지 꼼꼼히 챙겨주셔서 좋았어요  5.0   \n",
       "3  고르곤졸라 휘낭시에, 티라미수 휘낭시에는 아이디어가 좋은 것 같습니다.\\n티라미수 ...  5.0   \n",
       "4  너무 듣고 싶었던 클래스였는데 기대한 만큼 너무 만족스러웠어요. 설명도 초심자한테 ...  5.0   \n",
       "\n",
       "                        제목 카테고리     지역     가격  \\\n",
       "0  [반포] 휘낭시에 3종 만들기 #18개완성  베이킹  강남/서초  50000   \n",
       "1  [반포] 휘낭시에 3종 만들기 #18개완성  베이킹  강남/서초  50000   \n",
       "2  [반포] 휘낭시에 3종 만들기 #18개완성  베이킹  강남/서초  50000   \n",
       "3  [반포] 휘낭시에 3종 만들기 #18개완성  베이킹  강남/서초  50000   \n",
       "4  [반포] 휘낭시에 3종 만들기 #18개완성  베이킹  강남/서초  50000   \n",
       "\n",
       "                                              review  \\\n",
       "0  2시간동안 알차게 수업 잘 들었어요   결과물도 너무 만족스러워요     포장지도 ...   \n",
       "1  처음 만들어봤는데 옆에서 적당히 도와주시고 재밌었습니다  그리고 재밋게 만들고 맛있...   \n",
       "2         설명도 잘해주시고 재밌는 수업이였습니다  포장까지 꼼꼼히 챙겨주셔서 좋았어요   \n",
       "3  고르곤졸라 휘낭시에  티라미수 휘낭시에는 아이디어가 좋은 것 같습니다  티라미수 속...   \n",
       "4  너무 듣고 싶었던 클래스였는데 기대한 만큼 너무 만족스러웠어요  설명도 초심자한테 ...   \n",
       "\n",
       "                                            s_review  \n",
       "0  2시간 동안 알차게 수업 잘 들었어요 결과물도 너무 만족스러워요 포장지도 예쁜 걸루...  \n",
       "1  처음 만들어 봤는데 옆에서 적당히 도와 주시고 재밌었습니다 그리고 재밋게 만들고 맛...  \n",
       "2          설명도 잘해주시고 재밌는 수업이였습니다 포장까지 꼼꼼히 챙겨주셔서 좋았어요  \n",
       "3  고르곤졸라 휘낭시에 티라미수 휘낭시에는 아이디어가 좋은 것 같습니다 티라미수 속에 ...  \n",
       "4  너무 듣고 싶었던 클래스였는데 기 대한 만큼 너무 만족스러웠어요 설명도 초심자한테 ...  "
      ]
     },
     "execution_count": 171,
     "metadata": {},
     "output_type": "execute_result"
    }
   ],
   "source": [
    "data.head()"
   ]
  },
  {
   "cell_type": "code",
   "execution_count": 172,
   "metadata": {},
   "outputs": [],
   "source": [
    "# 한글전처리된 데이터 저장\n",
    "data.to_csv('/Users/jin/Documents/pythonstudy/NLP/frip_data/frip_data_all_preprocess.csv')"
   ]
  },
  {
   "cell_type": "code",
   "execution_count": 57,
   "metadata": {},
   "outputs": [],
   "source": [
    "data = pd.read_csv('/Users/jin/Documents/pythonstudy/NLP/frip_data/frip_data_all_preprocess.csv', index_col=0)"
   ]
  },
  {
   "cell_type": "code",
   "execution_count": 59,
   "metadata": {},
   "outputs": [],
   "source": [
    "# 하루제한때문에 일부로 나눔 (여러날 진행 필요함)\n",
    "#data1 = data.iloc[:1183,:]\n",
    "#data2 = data.iloc[1183:1183+600,:]\n",
    "#data3 = data.iloc[1783:1783+1159,:]\n",
    "#data4 = data.iloc[2942:2942+1169,:]\n",
    "#data5 = data.iloc[4111:4111+1140,:]\n",
    "#data6 = data.iloc[5251+1100:,:]\n",
    "#data7 = data.iloc[6351:6351+1183,:]   # 다시해야함  8번을 먼저 저장하게 됨, 7번을 다시 붙여야 함 \n",
    "#data8 = data.iloc[7534+1180:,:]\n",
    "data11 = data.iloc[9153:,:]"
   ]
  },
  {
   "cell_type": "code",
   "execution_count": 60,
   "metadata": {},
   "outputs": [],
   "source": [
    "# null 제거 이전까지는 null 없었음 \n",
    "data11 = data11[data11['s_review'].isnull()==False]"
   ]
  },
  {
   "cell_type": "code",
   "execution_count": 61,
   "metadata": {},
   "outputs": [],
   "source": [
    "data11.reset_index(drop=True, inplace=True)"
   ]
  },
  {
   "cell_type": "markdown",
   "metadata": {},
   "source": [
    "## 2. 번역"
   ]
  },
  {
   "cell_type": "code",
   "execution_count": 54,
   "metadata": {},
   "outputs": [],
   "source": [
    "import requests\n",
    "\n",
    "def get_translate(text):\n",
    "    client_id =  # <-- client_id 기입\n",
    "    client_secret =  # <-- client_secret 기입\n",
    "\n",
    "    data = {'text' : text,\n",
    "            'source' : 'ko',\n",
    "            'target': 'en'}\n",
    "\n",
    "    #url = \"https://openapi.naver.com/v1/papago/n2mt\" # 무료 버전\n",
    "    url = \"https://naveropenapi.apigw.ntruss.com/nmt/v1/translation\" # 유료 버전\n",
    "\n",
    "    header = {\"X-NCP-APIGW-API-KEY-ID\": client_id, # 무료 X-Naver-Client-Id -> 유료 X-NCP-APIGW-API-KEY-ID 로 변경\n",
    "              \"X-NCP-APIGW-API-KEY\": client_secret} # 무료 X-Naver-Client-Secret -> 유료 X-NCP-APIGW-API-KEY 로 변경\n",
    "\n",
    "    response = requests.post(url, headers=header, data=data)\n",
    "    rescode = response.status_code\n",
    "\n",
    "    if(rescode==200):\n",
    "        send_data = response.json()\n",
    "        trans_data = (send_data['message']['result']['translatedText'])\n",
    "        return trans_data\n",
    "    else:\n",
    "        print(\"Error Code:\" , rescode)"
   ]
  },
  {
   "cell_type": "code",
   "execution_count": 63,
   "metadata": {},
   "outputs": [
    {
     "name": "stdout",
     "output_type": "stream",
     "text": [
      "Error Code: 500\n"
     ]
    }
   ],
   "source": [
    "texts = []\n",
    "for i in data11['s_review']:\n",
    "    text = get_translate(i)\n",
    "    texts.append(text)"
   ]
  },
  {
   "cell_type": "code",
   "execution_count": 65,
   "metadata": {},
   "outputs": [
    {
     "data": {
      "text/plain": [
       "3963"
      ]
     },
     "execution_count": 65,
     "metadata": {},
     "output_type": "execute_result"
    }
   ],
   "source": [
    "len(data11)"
   ]
  },
  {
   "cell_type": "code",
   "execution_count": 64,
   "metadata": {},
   "outputs": [
    {
     "data": {
      "text/plain": [
       "3963"
      ]
     },
     "execution_count": 64,
     "metadata": {},
     "output_type": "execute_result"
    }
   ],
   "source": [
    "len(texts)"
   ]
  },
  {
   "cell_type": "code",
   "execution_count": 66,
   "metadata": {},
   "outputs": [],
   "source": [
    "data11['번역'] = texts"
   ]
  },
  {
   "cell_type": "code",
   "execution_count": 67,
   "metadata": {},
   "outputs": [
    {
     "data": {
      "text/plain": [
       "'치킨과 간단한 치즈 플레이트도 맛있었고 친절한 진행자분께서 분위기를 잘 이끌어주셔서 좋았어요 다양하고 맛있는 와인도 맛볼 수 있어 좋은 시간이었습니다 감사합니다'"
      ]
     },
     "execution_count": 67,
     "metadata": {},
     "output_type": "execute_result"
    }
   ],
   "source": [
    "data11['s_review'][1]"
   ]
  },
  {
   "cell_type": "code",
   "execution_count": 68,
   "metadata": {},
   "outputs": [
    {
     "data": {
      "text/plain": [
       "'The chicken and simple cheese plate were delicious, and the kind host set the mood well. It was a good time to taste various and delicious wines Thank you.'"
      ]
     },
     "execution_count": 68,
     "metadata": {},
     "output_type": "execute_result"
    }
   ],
   "source": [
    "data11['번역'][1]"
   ]
  },
  {
   "cell_type": "code",
   "execution_count": 78,
   "metadata": {},
   "outputs": [],
   "source": [
    "d = pd.read_csv('/Users/jin/Documents/pythonstudy/NLP/frip_data/frip_data_translate_part10_9135.csv', index_col=0,encoding='utf-8')"
   ]
  },
  {
   "cell_type": "code",
   "execution_count": 79,
   "metadata": {},
   "outputs": [],
   "source": [
    "d.reset_index(drop=True, inplace=True)"
   ]
  },
  {
   "cell_type": "code",
   "execution_count": 80,
   "metadata": {},
   "outputs": [],
   "source": [
    "new_d = pd.concat([d,data11])"
   ]
  },
  {
   "cell_type": "code",
   "execution_count": 81,
   "metadata": {},
   "outputs": [],
   "source": [
    "new_d.reset_index(drop=True, inplace=True)"
   ]
  },
  {
   "cell_type": "code",
   "execution_count": 84,
   "metadata": {},
   "outputs": [],
   "source": [
    "# 마지막에 꼭 저장해야함 \n",
    "new_d.to_csv('/Users/jin/Documents/pythonstudy/NLP/frip_data/frip_data_translate_part11_full.csv')"
   ]
  },
  {
   "cell_type": "code",
   "execution_count": null,
   "metadata": {},
   "outputs": [],
   "source": []
  }
 ],
 "metadata": {
  "kernelspec": {
   "display_name": "Python 3",
   "language": "python",
   "name": "python3"
  },
  "language_info": {
   "codemirror_mode": {
    "name": "ipython",
    "version": 3
   },
   "file_extension": ".py",
   "mimetype": "text/x-python",
   "name": "python",
   "nbconvert_exporter": "python",
   "pygments_lexer": "ipython3",
   "version": "3.8.3"
  }
 },
 "nbformat": 4,
 "nbformat_minor": 4
}
